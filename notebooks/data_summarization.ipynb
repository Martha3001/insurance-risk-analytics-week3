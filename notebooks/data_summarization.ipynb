{
 "cells": [
  {
   "cell_type": "markdown",
   "id": "5b43f52d",
   "metadata": {},
   "source": [
    "# Data Summarization"
   ]
  },
  {
   "cell_type": "markdown",
   "id": "1b733b27",
   "metadata": {},
   "source": [
    "## Import Dependenices and Custom Modules"
   ]
  },
  {
   "cell_type": "code",
   "execution_count": 1,
   "id": "3fe1fabb",
   "metadata": {},
   "outputs": [],
   "source": [
    "import numpy as np\n",
    "import pandas as pd\n",
    "import matplotlib.pyplot as plt\n",
    "import os\n",
    "import sys\n",
    "module_path = os.path.abspath(os.path.join('..'))\n",
    "if module_path not in sys.path:\n",
    "    sys.path.append(module_path)\n",
    "\n",
    "from scripts.data_loader import DataLoader\n",
    "from scripts.data_analysis import DataAnalysis\n",
    "from scripts.data_visualize import DataVisualize"
   ]
  },
  {
   "cell_type": "code",
   "execution_count": 2,
   "id": "fa7c991a",
   "metadata": {},
   "outputs": [
    {
     "name": "stderr",
     "output_type": "stream",
     "text": [
      "C:\\Users\\user\\AppData\\Local\\Temp\\ipykernel_22316\\131484052.py:5: DtypeWarning: Columns (32,37) have mixed types. Specify dtype option on import or set low_memory=False.\n",
      "  df = pd.read_csv('../data/raw/MachineLearningRating_v3.csv')\n"
     ]
    }
   ],
   "source": [
    "# Loads a dataset from a text file and saves it as a CSV file.\n",
    "# dataLoader = DataLoader()\n",
    "# df = dataLoader.load_and_save_as_csv('../data/raw/MachineLearningRating_v3.txt')\n",
    "\n",
    "df = pd.read_csv('../data/raw/MachineLearningRating_v3.csv')\n",
    "\n",
    "dataAnalysis = DataAnalysis(df)\n",
    "dataVisualize = DataVisualize(df)"
   ]
  },
  {
   "cell_type": "code",
   "execution_count": 3,
   "id": "58c53d48",
   "metadata": {},
   "outputs": [
    {
     "name": "stdout",
     "output_type": "stream",
     "text": [
      "Columns in the DataFrame:\n",
      "Index(['UnderwrittenCoverID', 'PolicyID', 'TransactionMonth',\n",
      "       'IsVATRegistered', 'Citizenship', 'LegalType', 'Title', 'Language',\n",
      "       'Bank', 'AccountType', 'MaritalStatus', 'Gender', 'Country', 'Province',\n",
      "       'PostalCode', 'MainCrestaZone', 'SubCrestaZone', 'ItemType', 'mmcode',\n",
      "       'VehicleType', 'RegistrationYear', 'make', 'Model', 'Cylinders',\n",
      "       'cubiccapacity', 'kilowatts', 'bodytype', 'NumberOfDoors',\n",
      "       'VehicleIntroDate', 'CustomValueEstimate', 'AlarmImmobiliser',\n",
      "       'TrackingDevice', 'CapitalOutstanding', 'NewVehicle', 'WrittenOff',\n",
      "       'Rebuilt', 'Converted', 'CrossBorder', 'NumberOfVehiclesInFleet',\n",
      "       'SumInsured', 'TermFrequency', 'CalculatedPremiumPerTerm',\n",
      "       'ExcessSelected', 'CoverCategory', 'CoverType', 'CoverGroup', 'Section',\n",
      "       'Product', 'StatutoryClass', 'StatutoryRiskType', 'TotalPremium',\n",
      "       'TotalClaims'],\n",
      "      dtype='object')\n"
     ]
    }
   ],
   "source": [
    "# List the columns of the DataFrame\n",
    "print(\"Columns in the DataFrame:\")\n",
    "print(df.columns)"
   ]
  },
  {
   "cell_type": "code",
   "execution_count": 4,
   "id": "4fb198f1",
   "metadata": {},
   "outputs": [
    {
     "name": "stdout",
     "output_type": "stream",
     "text": [
      "\n",
      "Shape of the DataFrame:\n",
      "(1000098, 52)\n"
     ]
    }
   ],
   "source": [
    "# List the shape of the DataFrame\n",
    "print(\"\\nShape of the DataFrame:\")\n",
    "print(df.shape)"
   ]
  },
  {
   "cell_type": "code",
   "execution_count": 5,
   "id": "8b89d741",
   "metadata": {},
   "outputs": [
    {
     "name": "stdout",
     "output_type": "stream",
     "text": [
      "Check for duplicate values:\n",
      "0\n"
     ]
    }
   ],
   "source": [
    "# Check duplicate values\n",
    "print(\"Check for duplicate values:\")\n",
    "print(df.duplicated().sum())"
   ]
  },
  {
   "cell_type": "markdown",
   "id": "25019b92",
   "metadata": {},
   "source": [
    "- The number of rows is 10000098 and the number of columns is 52 with no duplicate value"
   ]
  },
  {
   "cell_type": "markdown",
   "id": "52f0682f",
   "metadata": {},
   "source": [
    "## Data Understanding"
   ]
  },
  {
   "cell_type": "markdown",
   "id": "7af2196d",
   "metadata": {},
   "source": [
    "### Insurance Policy"
   ]
  },
  {
   "cell_type": "code",
   "execution_count": 6,
   "id": "adf21416",
   "metadata": {},
   "outputs": [
    {
     "name": "stdout",
     "output_type": "stream",
     "text": [
      "The first 5 rows\n",
      "   UnderwrittenCoverID  PolicyID\n",
      "0               145249     12827\n",
      "1               145249     12827\n",
      "2               145249     12827\n",
      "3               145255     12827\n",
      "4               145255     12827\n",
      "----------------------------------\n",
      "The last 5 rows\n",
      "         UnderwrittenCoverID  PolicyID\n",
      "1000093                31520       389\n",
      "1000094                31520       389\n",
      "1000095                31520       389\n",
      "1000096                31519       389\n",
      "1000097                31519       389\n",
      "----------------------------------\n",
      "The date type of the columns:\n",
      "UnderwrittenCoverID    int64\n",
      "PolicyID               int64\n",
      "dtype: object\n",
      "----------------------------------\n",
      "The count of unique values in the columns:\n",
      "UnderwrittenCoverID    116532\n",
      "PolicyID                 7000\n",
      "dtype: int64\n",
      "----------------------------------\n",
      "Check for missing values:\n",
      "UnderwrittenCoverID    0\n",
      "PolicyID               0\n",
      "dtype: int64\n"
     ]
    }
   ],
   "source": [
    "# List the columns overview for insurance policies\n",
    "insurance_policy_columns = [ 'UnderwrittenCoverID', 'PolicyID']\n",
    "\n",
    "dataAnalysis.columns_overview(insurance_policy_columns)"
   ]
  },
  {
   "cell_type": "markdown",
   "id": "5ac6da65",
   "metadata": {},
   "source": [
    "The **Insurance Policy** columns are UnderwrittenCoverID and PolicyID.\n",
    "- **UnderwrittenCoverID**: Unique identifier for a specific insurance coverage with **116532** unique values.\n",
    "- **PolicyID**: Identifier for an entire insurance policy with **7000** unique values.\n",
    "- The columns are **integer**.\n",
    "- **No missing values** in both columns.\n",
    "- PolicyID is many-to-one: each policy covers multiple UnderwrittenCoverIDs."
   ]
  },
  {
   "cell_type": "markdown",
   "id": "f9283470",
   "metadata": {},
   "source": [
    "### Transaction Date"
   ]
  },
  {
   "cell_type": "code",
   "execution_count": 7,
   "id": "85b12c8e",
   "metadata": {},
   "outputs": [
    {
     "name": "stdout",
     "output_type": "stream",
     "text": [
      "The first 5 rows\n",
      "0    2015-03-01 00:00:00\n",
      "1    2015-05-01 00:00:00\n",
      "2    2015-07-01 00:00:00\n",
      "3    2015-05-01 00:00:00\n",
      "4    2015-07-01 00:00:00\n",
      "Name: TransactionMonth, dtype: object\n",
      "----------------------------------\n",
      "The last 5 rows\n",
      "1000093    2015-04-01 00:00:00\n",
      "1000094    2015-06-01 00:00:00\n",
      "1000095    2015-08-01 00:00:00\n",
      "1000096    2014-07-01 00:00:00\n",
      "1000097    2015-02-01 00:00:00\n",
      "Name: TransactionMonth, dtype: object\n",
      "----------------------------------\n",
      "The date type of the columns:\n",
      "object\n",
      "----------------------------------\n",
      "The count of unique values in the columns:\n",
      "23\n",
      "----------------------------------\n",
      "Check for missing values:\n",
      "0\n"
     ]
    }
   ],
   "source": [
    "# List the column overview for transaction date\n",
    "dataAnalysis.columns_overview('TransactionMonth')"
   ]
  },
  {
   "cell_type": "code",
   "execution_count": 8,
   "id": "6d8d955b",
   "metadata": {},
   "outputs": [],
   "source": [
    "# Convert the 'TransactionMonth' column to datetime format\n",
    "dataAnalysis.convert_to_datetime_format('TransactionMonth')"
   ]
  },
  {
   "cell_type": "code",
   "execution_count": 9,
   "id": "f7ea7c28",
   "metadata": {},
   "outputs": [
    {
     "name": "stdout",
     "output_type": "stream",
     "text": [
      "\n",
      "23 Months in the dataset:\n"
     ]
    },
    {
     "data": {
      "text/plain": [
       "[Timestamp('2013-10-01 00:00:00'),\n",
       " Timestamp('2013-11-01 00:00:00'),\n",
       " Timestamp('2013-12-01 00:00:00'),\n",
       " Timestamp('2014-01-01 00:00:00'),\n",
       " Timestamp('2014-02-01 00:00:00'),\n",
       " Timestamp('2014-03-01 00:00:00'),\n",
       " Timestamp('2014-04-01 00:00:00'),\n",
       " Timestamp('2014-05-01 00:00:00'),\n",
       " Timestamp('2014-06-01 00:00:00'),\n",
       " Timestamp('2014-07-01 00:00:00'),\n",
       " Timestamp('2014-08-01 00:00:00'),\n",
       " Timestamp('2014-09-01 00:00:00'),\n",
       " Timestamp('2014-10-01 00:00:00'),\n",
       " Timestamp('2014-11-01 00:00:00'),\n",
       " Timestamp('2014-12-01 00:00:00'),\n",
       " Timestamp('2015-01-01 00:00:00'),\n",
       " Timestamp('2015-02-01 00:00:00'),\n",
       " Timestamp('2015-03-01 00:00:00'),\n",
       " Timestamp('2015-04-01 00:00:00'),\n",
       " Timestamp('2015-05-01 00:00:00'),\n",
       " Timestamp('2015-06-01 00:00:00'),\n",
       " Timestamp('2015-07-01 00:00:00'),\n",
       " Timestamp('2015-08-01 00:00:00')]"
      ]
     },
     "execution_count": 9,
     "metadata": {},
     "output_type": "execute_result"
    }
   ],
   "source": [
    "# List of unique Months in the dataset\n",
    "print(\"\\n23 Months in the dataset:\")\n",
    "dataAnalysis.show_unique_values('TransactionMonth')"
   ]
  },
  {
   "cell_type": "markdown",
   "id": "b539be82",
   "metadata": {},
   "source": [
    "The **Transaction Date** column is TransactionMonth.\n",
    "- **TransactionMonth**: Month the transaction occurred with **23** unique values.\n",
    "- Intialy the column was **object**, now changed to **datetime** format.\n",
    "- **No missing values** in the column.\n",
    "- The date is from October 2013 to August 2015."
   ]
  },
  {
   "cell_type": "markdown",
   "id": "882623b3",
   "metadata": {},
   "source": [
    "### Columns about the client"
   ]
  },
  {
   "cell_type": "code",
   "execution_count": 10,
   "id": "6a8ddab1",
   "metadata": {},
   "outputs": [
    {
     "name": "stdout",
     "output_type": "stream",
     "text": [
      "The first 5 rows\n",
      "   IsVATRegistered Citizenship          LegalType Title Language  \\\n",
      "0             True              Close Corporation    Mr  English   \n",
      "1             True              Close Corporation    Mr  English   \n",
      "2             True              Close Corporation    Mr  English   \n",
      "3             True              Close Corporation    Mr  English   \n",
      "4             True              Close Corporation    Mr  English   \n",
      "\n",
      "                  Bank      AccountType  MaritalStatus         Gender  \n",
      "0  First National Bank  Current account  Not specified  Not specified  \n",
      "1  First National Bank  Current account  Not specified  Not specified  \n",
      "2  First National Bank  Current account  Not specified  Not specified  \n",
      "3  First National Bank  Current account  Not specified  Not specified  \n",
      "4  First National Bank  Current account  Not specified  Not specified  \n",
      "----------------------------------\n",
      "The last 5 rows\n",
      "         IsVATRegistered Citizenship   LegalType Title Language       Bank  \\\n",
      "1000093            False          ZW  Individual    Mr  English  ABSA Bank   \n",
      "1000094            False          ZW  Individual    Mr  English  ABSA Bank   \n",
      "1000095            False          ZW  Individual    Mr  English  ABSA Bank   \n",
      "1000096            False          ZW  Individual    Mr  English  ABSA Bank   \n",
      "1000097            False          ZW  Individual    Mr  English  ABSA Bank   \n",
      "\n",
      "             AccountType MaritalStatus Gender  \n",
      "1000093  Savings account        Single   Male  \n",
      "1000094  Savings account        Single   Male  \n",
      "1000095  Savings account        Single   Male  \n",
      "1000096  Savings account        Single   Male  \n",
      "1000097  Savings account        Single   Male  \n",
      "----------------------------------\n",
      "The date type of the columns:\n",
      "IsVATRegistered      bool\n",
      "Citizenship        object\n",
      "LegalType          object\n",
      "Title              object\n",
      "Language           object\n",
      "Bank               object\n",
      "AccountType        object\n",
      "MaritalStatus      object\n",
      "Gender             object\n",
      "dtype: object\n",
      "----------------------------------\n",
      "The count of unique values in the columns:\n",
      "IsVATRegistered     2\n",
      "Citizenship         4\n",
      "LegalType           6\n",
      "Title               5\n",
      "Language            1\n",
      "Bank               11\n",
      "AccountType         3\n",
      "MaritalStatus       3\n",
      "Gender              3\n",
      "dtype: int64\n",
      "----------------------------------\n",
      "Check for missing values:\n",
      "IsVATRegistered         0\n",
      "Citizenship             0\n",
      "LegalType               0\n",
      "Title                   0\n",
      "Language                0\n",
      "Bank               145961\n",
      "AccountType         40232\n",
      "MaritalStatus        8259\n",
      "Gender               9536\n",
      "dtype: int64\n"
     ]
    }
   ],
   "source": [
    "# List the columns overview for client information\n",
    "client_columns = [ 'IsVATRegistered', 'Citizenship', 'LegalType', 'Title', 'Language',\n",
    "       'Bank', 'AccountType', 'MaritalStatus', 'Gender']\n",
    "\n",
    "dataAnalysis.columns_overview(client_columns)"
   ]
  },
  {
   "cell_type": "code",
   "execution_count": 11,
   "id": "554e4530",
   "metadata": {},
   "outputs": [
    {
     "name": "stdout",
     "output_type": "stream",
     "text": [
      "\n",
      "Unique values in client information columns:\n"
     ]
    },
    {
     "data": {
      "text/plain": [
       "{'IsVATRegistered': array([ True, False]),\n",
       " 'Citizenship': array(['  ', 'AF', 'ZA', 'ZW'], dtype=object),\n",
       " 'LegalType': array(['Close Corporation', 'Individual', 'Partnership',\n",
       "        'Private company', 'Public company', 'Sole proprieter'],\n",
       "       dtype=object),\n",
       " 'Title': array(['Mr', 'Dr', 'Miss', 'Mrs', 'Ms'], dtype=object),\n",
       " 'Language': array(['English'], dtype=object),\n",
       " 'Bank': array(['First National Bank', 'Standard Bank', nan, 'ABSA Bank',\n",
       "        'Capitec Bank', 'Nedbank', 'FirstRand Bank', 'Investec Bank',\n",
       "        'Ithala Bank', 'Old Mutual', 'Mercantile Lisbon Bank',\n",
       "        'RMB Private Bank'], dtype=object),\n",
       " 'AccountType': array(['Current account', 'Savings account', nan, 'Transmission account'],\n",
       "       dtype=object),\n",
       " 'MaritalStatus': array(['Not specified', 'Married', 'Single', nan], dtype=object),\n",
       " 'Gender': array(['Not specified', 'Male', 'Female', nan], dtype=object)}"
      ]
     },
     "execution_count": 11,
     "metadata": {},
     "output_type": "execute_result"
    }
   ],
   "source": [
    "# List the unique values in the client information columns\n",
    "print(\"\\nUnique values in client information columns:\")\n",
    "dataAnalysis.show_unique_values(client_columns)"
   ]
  },
  {
   "cell_type": "markdown",
   "id": "db776313",
   "metadata": {},
   "source": [
    "The **Client Information** columns are IsVATRegistered, Citizenship, LegalType, Title, Language,\n",
    "       Bank, AccountType, MaritalStatus and Gender.\n",
    "- **IsVATRegistered**: indicates business registration for tax occurred with **2** unique values.\n",
    "    - **Values:** True, False\n",
    "- **Citizenship**: **4** unique values.\n",
    "    - **Values:** '  ', 'AF', 'ZA', 'ZW'\n",
    "- **LegalType**: **6** unique values.\n",
    "    - **Values:** 'Close Corporation', 'Individual', 'Partnership',\n",
    "        'Private company', 'Public company', 'Sole proprieter'\n",
    "- **Title**: **5** unique values.\n",
    "    - **Values:** 'Mr', 'Dr', 'Miss', 'Mrs', 'Ms'\n",
    "- **Language**: **1** unique values.\n",
    "    - All of the **Value** of the column is English.\n",
    "- **Bank**: **11** unique values.\n",
    "- **AccountType**: **3** unique values.\n",
    "    - **Values:** 'Current account', 'Savings account', 'Transmission account'\n",
    "- **MaritalStatus**: **3** unique values.\n",
    "    - **Values:** 'Not specified', 'Married', 'Single'\n",
    "- **Gender**: **3** unique values.\n",
    "    - **Values:** 'Not specified', 'Male', 'Female'\n",
    "- IsVATRegistered is **boolean** data type but the remaining columns are **object** datatype\n",
    "- There were **missing value** in columns: Bank, AccountType, MaritalStatus and Gender."
   ]
  },
  {
   "cell_type": "markdown",
   "id": "a5402f1f",
   "metadata": {},
   "source": [
    "### Client Location"
   ]
  },
  {
   "cell_type": "code",
   "execution_count": 12,
   "id": "c4bb8742",
   "metadata": {},
   "outputs": [
    {
     "name": "stdout",
     "output_type": "stream",
     "text": [
      "The first 5 rows\n",
      "        Country Province  PostalCode MainCrestaZone SubCrestaZone\n",
      "0  South Africa  Gauteng        1459      Rand East     Rand East\n",
      "1  South Africa  Gauteng        1459      Rand East     Rand East\n",
      "2  South Africa  Gauteng        1459      Rand East     Rand East\n",
      "3  South Africa  Gauteng        1459      Rand East     Rand East\n",
      "4  South Africa  Gauteng        1459      Rand East     Rand East\n",
      "----------------------------------\n",
      "The last 5 rows\n",
      "              Country      Province  PostalCode  \\\n",
      "1000093  South Africa  Western Cape        7493   \n",
      "1000094  South Africa  Western Cape        7493   \n",
      "1000095  South Africa  Western Cape        7493   \n",
      "1000096  South Africa  Western Cape        7493   \n",
      "1000097  South Africa  Western Cape        7493   \n",
      "\n",
      "                           MainCrestaZone    SubCrestaZone  \n",
      "1000093  Karoo 1 (Northeast of Cape Town)  Northeast of CT  \n",
      "1000094  Karoo 1 (Northeast of Cape Town)  Northeast of CT  \n",
      "1000095  Karoo 1 (Northeast of Cape Town)  Northeast of CT  \n",
      "1000096  Karoo 1 (Northeast of Cape Town)  Northeast of CT  \n",
      "1000097  Karoo 1 (Northeast of Cape Town)  Northeast of CT  \n",
      "----------------------------------\n",
      "The date type of the columns:\n",
      "Country           object\n",
      "Province          object\n",
      "PostalCode         int64\n",
      "MainCrestaZone    object\n",
      "SubCrestaZone     object\n",
      "dtype: object\n",
      "----------------------------------\n",
      "The count of unique values in the columns:\n",
      "Country             1\n",
      "Province            9\n",
      "PostalCode        888\n",
      "MainCrestaZone     16\n",
      "SubCrestaZone      45\n",
      "dtype: int64\n",
      "----------------------------------\n",
      "Check for missing values:\n",
      "Country           0\n",
      "Province          0\n",
      "PostalCode        0\n",
      "MainCrestaZone    0\n",
      "SubCrestaZone     0\n",
      "dtype: int64\n"
     ]
    }
   ],
   "source": [
    "# List the columns overview for client location information\n",
    "client_location_columns = [ 'Country', 'Province', 'PostalCode', 'MainCrestaZone', 'SubCrestaZone']\n",
    "\n",
    "dataAnalysis.columns_overview(client_location_columns)"
   ]
  },
  {
   "cell_type": "code",
   "execution_count": 13,
   "id": "6dc986f2",
   "metadata": {},
   "outputs": [
    {
     "name": "stdout",
     "output_type": "stream",
     "text": [
      "\n",
      "Unique values in client location information columns:\n"
     ]
    },
    {
     "data": {
      "text/plain": [
       "{'Country': array(['South Africa'], dtype=object),\n",
       " 'Province': array(['Gauteng', 'KwaZulu-Natal', 'Mpumalanga', 'Eastern Cape',\n",
       "        'Western Cape', 'Limpopo', 'North West', 'Free State',\n",
       "        'Northern Cape'], dtype=object),\n",
       " 'MainCrestaZone': array(['Rand East', 'Transvaal (all except Pretoria)', 'Johannesburg',\n",
       "        'Natal (Durban)', 'Tembu 2, Cape Mid 2, Cape Mid West, Tembu 1',\n",
       "        'Transvaal (Pretoria)', 'Natal', 'Cape Province (Cape Town)',\n",
       "        'Langkloof, Coast 2, Coast 1',\n",
       "        'Cape Province (East and North of Cape Town)', 'Oranje Free State',\n",
       "        'East London', 'Port Elizabeth', 'Ciskei, Cape Mid 1',\n",
       "        'Cape Province', 'Karoo 1 (Northeast of Cape Town)'], dtype=object),\n",
       " 'SubCrestaZone': array(['Rand East', 'Transvaal South', 'Johannesburg', 'Durban',\n",
       "        'Transvaal South East', 'Cape Mid West', 'Pretoria', 'Rand West',\n",
       "        'North Coast', 'Cape Town', 'Transvaal North', 'Langkloof',\n",
       "        'Transvaal North West', 'Transvaal East', 'East and North of',\n",
       "        'Drakensberg', 'Natal 1', 'Zululand', 'Highveld', 'Pondo',\n",
       "        'Tembu 1', 'East London', 'Tembu 2', 'Cape Mid 2',\n",
       "        'Port Elizabeth', 'Cape Mid 1', 'Bushveld', 'Natal 2', 'Natal 3',\n",
       "        'South Coast', 'Transvaal Mid West', 'Kalahari', 'Vaalhartz',\n",
       "        'Herbert', 'Coast 1', 'Karoo 1', 'Northeast of CT', 'Bloemfontein',\n",
       "        'Transvaal South West', 'Namakwa', 'Ciskei', 'OFS North 1 and',\n",
       "        'Coast 2', 'Natal Cape', 'Karoo 2'], dtype=object)}"
      ]
     },
     "execution_count": 13,
     "metadata": {},
     "output_type": "execute_result"
    }
   ],
   "source": [
    "# List the unique values in the client information columns\n",
    "client_location_columns_without_PostalCode = [col for col in client_location_columns if col != 'PostalCode']\n",
    "print(\"\\nUnique values in client location information columns:\")\n",
    "dataAnalysis.show_unique_values(client_location_columns_without_PostalCode)"
   ]
  },
  {
   "cell_type": "markdown",
   "id": "6e1737a0",
   "metadata": {},
   "source": [
    "The **Client Location** columns are 'Country', 'Province', 'PostalCode', 'MainCrestaZone' and 'SubCrestaZone'.\n",
    "- **Country**: South Africa with **1** unique value.\n",
    "- **Provice**: **9** unique values.\n",
    "- The columns are **object** except **PostalCode** which is integer.\n",
    "- **No missing values** in all columns."
   ]
  },
  {
   "cell_type": "markdown",
   "id": "43635eca",
   "metadata": {},
   "source": [
    "### Car Insured"
   ]
  },
  {
   "cell_type": "code",
   "execution_count": 14,
   "id": "fdcf2810",
   "metadata": {},
   "outputs": [
    {
     "name": "stdout",
     "output_type": "stream",
     "text": [
      "The first 5 rows\n",
      "           ItemType      mmcode        VehicleType  RegistrationYear  \\\n",
      "0  Mobility - Motor  44069150.0  Passenger Vehicle              2004   \n",
      "1  Mobility - Motor  44069150.0  Passenger Vehicle              2004   \n",
      "2  Mobility - Motor  44069150.0  Passenger Vehicle              2004   \n",
      "3  Mobility - Motor  44069150.0  Passenger Vehicle              2004   \n",
      "4  Mobility - Motor  44069150.0  Passenger Vehicle              2004   \n",
      "\n",
      "            make  Model  Cylinders  cubiccapacity  kilowatts bodytype  \\\n",
      "0  MERCEDES-BENZ  E 240        6.0         2597.0      130.0      S/D   \n",
      "1  MERCEDES-BENZ  E 240        6.0         2597.0      130.0      S/D   \n",
      "2  MERCEDES-BENZ  E 240        6.0         2597.0      130.0      S/D   \n",
      "3  MERCEDES-BENZ  E 240        6.0         2597.0      130.0      S/D   \n",
      "4  MERCEDES-BENZ  E 240        6.0         2597.0      130.0      S/D   \n",
      "\n",
      "   NumberOfDoors VehicleIntroDate  \n",
      "0            4.0           6/2002  \n",
      "1            4.0           6/2002  \n",
      "2            4.0           6/2002  \n",
      "3            4.0           6/2002  \n",
      "4            4.0           6/2002  \n",
      "----------------------------------\n",
      "The last 5 rows\n",
      "                 ItemType     mmcode        VehicleType  RegistrationYear  \\\n",
      "1000093  Mobility - Motor  4614100.0  Passenger Vehicle              2013   \n",
      "1000094  Mobility - Motor  4614100.0  Passenger Vehicle              2013   \n",
      "1000095  Mobility - Motor  4614100.0  Passenger Vehicle              2013   \n",
      "1000096  Mobility - Motor  4614100.0  Passenger Vehicle              2013   \n",
      "1000097  Mobility - Motor  4614100.0  Passenger Vehicle              2013   \n",
      "\n",
      "          make                  Model  Cylinders  cubiccapacity  kilowatts  \\\n",
      "1000093  B.A.W  SASUKA 2.7i (16 SEAT)        4.0         2693.0      110.0   \n",
      "1000094  B.A.W  SASUKA 2.7i (16 SEAT)        4.0         2693.0      110.0   \n",
      "1000095  B.A.W  SASUKA 2.7i (16 SEAT)        4.0         2693.0      110.0   \n",
      "1000096  B.A.W  SASUKA 2.7i (16 SEAT)        4.0         2693.0      110.0   \n",
      "1000097  B.A.W  SASUKA 2.7i (16 SEAT)        4.0         2693.0      110.0   \n",
      "\n",
      "        bodytype  NumberOfDoors        VehicleIntroDate  \n",
      "1000093      B/S            4.0  2013/01/01 12:00:00 AM  \n",
      "1000094      B/S            4.0  2013/01/01 12:00:00 AM  \n",
      "1000095      B/S            4.0  2013/01/01 12:00:00 AM  \n",
      "1000096      B/S            4.0  2013/01/01 12:00:00 AM  \n",
      "1000097      B/S            4.0  2013/01/01 12:00:00 AM  \n",
      "----------------------------------\n",
      "The date type of the columns:\n",
      "ItemType             object\n",
      "mmcode              float64\n",
      "VehicleType          object\n",
      "RegistrationYear      int64\n",
      "make                 object\n",
      "Model                object\n",
      "Cylinders           float64\n",
      "cubiccapacity       float64\n",
      "kilowatts           float64\n",
      "bodytype             object\n",
      "NumberOfDoors       float64\n",
      "VehicleIntroDate     object\n",
      "dtype: object\n",
      "----------------------------------\n",
      "The count of unique values in the columns:\n",
      "ItemType              1\n",
      "mmcode              427\n",
      "VehicleType           5\n",
      "RegistrationYear     25\n",
      "make                 46\n",
      "Model               411\n",
      "Cylinders             7\n",
      "cubiccapacity       122\n",
      "kilowatts            82\n",
      "bodytype             13\n",
      "NumberOfDoors         6\n",
      "VehicleIntroDate    174\n",
      "dtype: int64\n",
      "----------------------------------\n",
      "Check for missing values:\n",
      "ItemType              0\n",
      "mmcode              552\n",
      "VehicleType         552\n",
      "RegistrationYear      0\n",
      "make                552\n",
      "Model               552\n",
      "Cylinders           552\n",
      "cubiccapacity       552\n",
      "kilowatts           552\n",
      "bodytype            552\n",
      "NumberOfDoors       552\n",
      "VehicleIntroDate    552\n",
      "dtype: int64\n"
     ]
    }
   ],
   "source": [
    "# List the columns overview for  car insured information\n",
    "car_insured_columns1 = [ 'ItemType', 'mmcode', 'VehicleType', 'RegistrationYear', 'make', 'Model', 'Cylinders',\n",
    "       'cubiccapacity', 'kilowatts', 'bodytype', 'NumberOfDoors', 'VehicleIntroDate']\n",
    "\n",
    "dataAnalysis.columns_overview(car_insured_columns1)"
   ]
  },
  {
   "cell_type": "code",
   "execution_count": 15,
   "id": "5ac43e19",
   "metadata": {},
   "outputs": [
    {
     "name": "stdout",
     "output_type": "stream",
     "text": [
      "\n",
      "Unique values in car insured information columns:\n"
     ]
    },
    {
     "data": {
      "text/plain": [
       "{'ItemType': array(['Mobility - Motor'], dtype=object),\n",
       " 'VehicleType': array(['Passenger Vehicle', 'Medium Commercial', 'Heavy Commercial',\n",
       "        'Light Commercial', 'Bus', nan], dtype=object),\n",
       " 'RegistrationYear': array([2004, 2006, 2009, 2011, 2007, 2014, 2010, 2013, 2008, 2015, 2012,\n",
       "        2005, 1998, 1995, 2000, 2003, 1999, 2001, 1997, 1994, 2002, 1996,\n",
       "        1992, 1987, 1988]),\n",
       " 'make': array(['MERCEDES-BENZ', 'VOLKSWAGEN', 'RENAULT', 'FORD', 'BMW', 'AUDI',\n",
       "        'VOLVO', 'PROTON', 'TOYOTA', 'NISSAN/DATSUN                      ',\n",
       "        'CMC', 'MERCEDES-BENZ                      ', 'C.A.M', 'POLARSUN',\n",
       "        'NISSAN', 'IVECO', 'FIAT', 'TOYOTA                             ',\n",
       "        'JINBEI', 'HYUNDAI', 'GOLDEN JOURNEY', 'KIA', 'MITSUBISHI', 'TATA',\n",
       "        'MAZDA', 'CITROEN                            ', 'FOTON', 'B.A.W',\n",
       "        'PEUGEOT', 'JINBEI                             ',\n",
       "        'SUZUKI                             ',\n",
       "        'CHERY                              ', 'SAIC',\n",
       "        'JMC                                ', 'HINO', 'HONDA',\n",
       "        'CHEVROLET', nan, 'OPEL', 'FORD                               ',\n",
       "        'MAHINDRA', 'DAIHATSU', 'GEELY                              ',\n",
       "        'SCANIA', 'LEXUS', 'HUMMER', 'MARCOPOLO'], dtype=object),\n",
       " 'Cylinders': array([ 6., 10.,  4.,  5.,  3.,  0., nan,  8.]),\n",
       " 'bodytype': array(['S/D', 'SUV', 'MPV', 'H/B', 'P/V', 'B/S', 'S/W', 'C/C', 'D/C',\n",
       "        'D/S', 'S/C', 'C/P', nan, 'CCL'], dtype=object),\n",
       " 'NumberOfDoors': array([ 4.,  5.,  2.,  0.,  3.,  6., nan])}"
      ]
     },
     "execution_count": 15,
     "metadata": {},
     "output_type": "execute_result"
    }
   ],
   "source": [
    "# List the unique values in the car insured information columns\n",
    "some_car_insured_columns1 = [ 'ItemType', 'VehicleType', 'RegistrationYear', \n",
    "        'make', 'Cylinders', 'bodytype', 'NumberOfDoors']\n",
    "print(\"\\nUnique values in car insured information columns:\")\n",
    "dataAnalysis.show_unique_values(some_car_insured_columns1)"
   ]
  },
  {
   "cell_type": "code",
   "execution_count": 16,
   "id": "d5dd2336",
   "metadata": {},
   "outputs": [],
   "source": [
    "# Convert the 'mmcode' column to int format\n",
    "dataAnalysis.convert_to_int('mmcode')"
   ]
  },
  {
   "cell_type": "code",
   "execution_count": 17,
   "id": "9303293d",
   "metadata": {},
   "outputs": [],
   "source": [
    "# Convert the 'RegistrationYear' column to datetime format\n",
    "dataAnalysis.convert_year_to_datetime_format('RegistrationYear')"
   ]
  },
  {
   "cell_type": "code",
   "execution_count": 18,
   "id": "d5543c6b",
   "metadata": {},
   "outputs": [],
   "source": [
    "# Convert the 'Cylinders' column to int format\n",
    "dataAnalysis.convert_to_int('Cylinders')\n",
    "\n",
    "# Convert the 'NumberOfDoors' column to int format\n",
    "dataAnalysis.convert_to_int('NumberOfDoors')"
   ]
  },
  {
   "cell_type": "code",
   "execution_count": 19,
   "id": "ce22032f",
   "metadata": {},
   "outputs": [],
   "source": [
    "# Convert the 'VehicleIntroDate' column to datetime format\n",
    "dataAnalysis.convert_to_datetime_format('VehicleIntroDate')"
   ]
  },
  {
   "cell_type": "markdown",
   "id": "4fbdf41a",
   "metadata": {},
   "source": [
    "Half **Car Issued** columns are ''ItemType', 'mmcode',\n",
    "       'VehicleType', 'RegistrationYear', 'make', 'Model', 'Cylinders',\n",
    "       'cubiccapacity', 'kilowatts', 'bodytype', 'NumberOfDoors', and 'VehicleIntroDate'.\n",
    "- **ItemType**: Mobility - Motor with **1** unique value.\n",
    "- **mmcode**: convert to int data type.\n",
    "- **VehicleType**: **5** unique values.\n",
    "- **RegistrationYear**: **25** unique values convert to datetime data type.\n",
    "- **Cylinders**: **7** unique values convert to int data type.\n",
    "- **NumberOfDoors**: **6** unique values convert to int data type.\n",
    "- **VehicleIntroDate**: convert to datetime data type.\n",
    "- The columns were **object**, **int** and **float** where some columns are changed.\n",
    "- 10 columns have **552 missing values**."
   ]
  },
  {
   "cell_type": "code",
   "execution_count": 20,
   "id": "ecc0238c",
   "metadata": {},
   "outputs": [
    {
     "name": "stdout",
     "output_type": "stream",
     "text": [
      "The first 5 rows\n",
      "   CustomValueEstimate AlarmImmobiliser TrackingDevice CapitalOutstanding  \\\n",
      "0             119300.0              Yes             No             119300   \n",
      "1             119300.0              Yes             No             119300   \n",
      "2             119300.0              Yes             No             119300   \n",
      "3             119300.0              Yes             No             119300   \n",
      "4             119300.0              Yes             No             119300   \n",
      "\n",
      "           NewVehicle WrittenOff Rebuilt Converted CrossBorder  \\\n",
      "0  More than 6 months        NaN     NaN       NaN         NaN   \n",
      "1  More than 6 months        NaN     NaN       NaN         NaN   \n",
      "2  More than 6 months        NaN     NaN       NaN         NaN   \n",
      "3  More than 6 months        NaN     NaN       NaN         NaN   \n",
      "4  More than 6 months        NaN     NaN       NaN         NaN   \n",
      "\n",
      "   NumberOfVehiclesInFleet  \n",
      "0                      NaN  \n",
      "1                      NaN  \n",
      "2                      NaN  \n",
      "3                      NaN  \n",
      "4                      NaN  \n",
      "----------------------------------\n",
      "The last 5 rows\n",
      "         CustomValueEstimate AlarmImmobiliser TrackingDevice  \\\n",
      "1000093                  NaN              Yes             No   \n",
      "1000094                  NaN              Yes             No   \n",
      "1000095                  NaN              Yes             No   \n",
      "1000096                  NaN              Yes             No   \n",
      "1000097                  NaN              Yes             No   \n",
      "\n",
      "        CapitalOutstanding          NewVehicle WrittenOff Rebuilt Converted  \\\n",
      "1000093                  0  More than 6 months         No      No        No   \n",
      "1000094                  0  More than 6 months         No      No        No   \n",
      "1000095                  0  More than 6 months         No      No        No   \n",
      "1000096                  0  More than 6 months         No      No        No   \n",
      "1000097                  0  More than 6 months         No      No        No   \n",
      "\n",
      "        CrossBorder  NumberOfVehiclesInFleet  \n",
      "1000093         NaN                      NaN  \n",
      "1000094         NaN                      NaN  \n",
      "1000095         NaN                      NaN  \n",
      "1000096         NaN                      NaN  \n",
      "1000097         NaN                      NaN  \n",
      "----------------------------------\n",
      "The date type of the columns:\n",
      "CustomValueEstimate        float64\n",
      "AlarmImmobiliser            object\n",
      "TrackingDevice              object\n",
      "CapitalOutstanding          object\n",
      "NewVehicle                  object\n",
      "WrittenOff                  object\n",
      "Rebuilt                     object\n",
      "Converted                   object\n",
      "CrossBorder                 object\n",
      "NumberOfVehiclesInFleet    float64\n",
      "dtype: object\n",
      "----------------------------------\n",
      "The count of unique values in the columns:\n",
      "CustomValueEstimate         923\n",
      "AlarmImmobiliser              2\n",
      "TrackingDevice                2\n",
      "CapitalOutstanding         1011\n",
      "NewVehicle                    2\n",
      "WrittenOff                    2\n",
      "Rebuilt                       2\n",
      "Converted                     2\n",
      "CrossBorder                   1\n",
      "NumberOfVehiclesInFleet       0\n",
      "dtype: int64\n",
      "----------------------------------\n",
      "Check for missing values:\n",
      "CustomValueEstimate         779642\n",
      "AlarmImmobiliser                 0\n",
      "TrackingDevice                   0\n",
      "CapitalOutstanding               2\n",
      "NewVehicle                  153295\n",
      "WrittenOff                  641901\n",
      "Rebuilt                     641901\n",
      "Converted                   641901\n",
      "CrossBorder                 999400\n",
      "NumberOfVehiclesInFleet    1000098\n",
      "dtype: int64\n"
     ]
    }
   ],
   "source": [
    "# List the columns overview for  car insured information\n",
    "car_insured_columns2 = [ 'CustomValueEstimate', 'AlarmImmobiliser',\n",
    "       'TrackingDevice', 'CapitalOutstanding', 'NewVehicle', 'WrittenOff',\n",
    "       'Rebuilt', 'Converted', 'CrossBorder', 'NumberOfVehiclesInFleet']\n",
    "\n",
    "dataAnalysis.columns_overview(car_insured_columns2)"
   ]
  },
  {
   "cell_type": "code",
   "execution_count": 21,
   "id": "f41071da",
   "metadata": {},
   "outputs": [
    {
     "name": "stdout",
     "output_type": "stream",
     "text": [
      "\n",
      "Unique values in car insured information columns:\n"
     ]
    },
    {
     "data": {
      "text/plain": [
       "{'AlarmImmobiliser': array(['Yes', 'No'], dtype=object),\n",
       " 'TrackingDevice': array(['No', 'Yes'], dtype=object),\n",
       " 'NewVehicle': array(['More than 6 months', nan, 'Less than 6 months'], dtype=object),\n",
       " 'WrittenOff': array([nan, 'No', 'Yes'], dtype=object),\n",
       " 'Rebuilt': array([nan, 'No', 'Yes'], dtype=object),\n",
       " 'Converted': array([nan, 'No', 'Yes'], dtype=object),\n",
       " 'CrossBorder': array([nan, 'No'], dtype=object)}"
      ]
     },
     "execution_count": 21,
     "metadata": {},
     "output_type": "execute_result"
    }
   ],
   "source": [
    "# List the unique values in the car insured information columns\n",
    "some_car_insured_columns2 = [ 'AlarmImmobiliser','TrackingDevice', 'NewVehicle', 'WrittenOff',\n",
    "       'Rebuilt', 'Converted', 'CrossBorder']\n",
    "\n",
    "print(\"\\nUnique values in car insured information columns:\")\n",
    "dataAnalysis.show_unique_values(some_car_insured_columns2)"
   ]
  },
  {
   "cell_type": "markdown",
   "id": "273bedea",
   "metadata": {},
   "source": [
    "Half **Cat Issued** columns are CustomValueEstimate', 'AlarmImmobiliser',\n",
    "       'TrackingDevice', 'CapitalOutstanding', 'NewVehicle', 'WrittenOff',\n",
    "       'Rebuilt', 'Converted', 'CrossBorder', and 'NumberOfVehiclesInFleet.\n",
    "- The columns are **object** except two columns **CustomValueEstimate** and **NumberOfVehiclesInFleet** which are float.\n",
    "- Most columns have **missing values** \n",
    "- Most columns have Yes or No value"
   ]
  },
  {
   "cell_type": "markdown",
   "id": "ab676775",
   "metadata": {},
   "source": [
    "### Plan"
   ]
  },
  {
   "cell_type": "code",
   "execution_count": 22,
   "id": "7cd35f4b",
   "metadata": {},
   "outputs": [
    {
     "name": "stdout",
     "output_type": "stream",
     "text": [
      "The first 5 rows\n",
      "   SumInsured TermFrequency  CalculatedPremiumPerTerm  \\\n",
      "0        0.01       Monthly                   25.0000   \n",
      "1        0.01       Monthly                   25.0000   \n",
      "2        0.01       Monthly                   25.0000   \n",
      "3   119300.00       Monthly                  584.6468   \n",
      "4   119300.00       Monthly                  584.6468   \n",
      "\n",
      "                     ExcessSelected CoverCategory   CoverType  \\\n",
      "0             Mobility - Windscreen    Windscreen  Windscreen   \n",
      "1             Mobility - Windscreen    Windscreen  Windscreen   \n",
      "2             Mobility - Windscreen    Windscreen  Windscreen   \n",
      "3  Mobility - Metered Taxis - R2000    Own damage  Own Damage   \n",
      "4  Mobility - Metered Taxis - R2000    Own damage  Own Damage   \n",
      "\n",
      "             CoverGroup              Section                          Product  \\\n",
      "0  Comprehensive - Taxi  Motor Comprehensive  Mobility Metered Taxis: Monthly   \n",
      "1  Comprehensive - Taxi  Motor Comprehensive  Mobility Metered Taxis: Monthly   \n",
      "2  Comprehensive - Taxi  Motor Comprehensive  Mobility Metered Taxis: Monthly   \n",
      "3  Comprehensive - Taxi  Motor Comprehensive  Mobility Metered Taxis: Monthly   \n",
      "4  Comprehensive - Taxi  Motor Comprehensive  Mobility Metered Taxis: Monthly   \n",
      "\n",
      "  StatutoryClass StatutoryRiskType  \n",
      "0     Commercial     IFRS Constant  \n",
      "1     Commercial     IFRS Constant  \n",
      "2     Commercial     IFRS Constant  \n",
      "3     Commercial     IFRS Constant  \n",
      "4     Commercial     IFRS Constant  \n",
      "----------------------------------\n",
      "The last 5 rows\n",
      "         SumInsured TermFrequency  CalculatedPremiumPerTerm ExcessSelected  \\\n",
      "1000093    500000.0       Monthly                  395.8481      No excess   \n",
      "1000094    500000.0       Monthly                  395.8481      No excess   \n",
      "1000095    500000.0       Monthly                  395.8481      No excess   \n",
      "1000096   5000000.0       Monthly                    2.6391      No excess   \n",
      "1000097   5000000.0       Monthly                    2.6391      No excess   \n",
      "\n",
      "               CoverCategory            CoverType            CoverGroup  \\\n",
      "1000093          Third Party          Third Party  Comprehensive - Taxi   \n",
      "1000094          Third Party          Third Party  Comprehensive - Taxi   \n",
      "1000095          Third Party          Third Party  Comprehensive - Taxi   \n",
      "1000096  Passenger Liability  Passenger Liability  Comprehensive - Taxi   \n",
      "1000097  Passenger Liability  Passenger Liability  Comprehensive - Taxi   \n",
      "\n",
      "                     Section                             Product  \\\n",
      "1000093  Motor Comprehensive  Mobility Commercial Cover: Monthly   \n",
      "1000094  Motor Comprehensive  Mobility Commercial Cover: Monthly   \n",
      "1000095  Motor Comprehensive  Mobility Commercial Cover: Monthly   \n",
      "1000096  Motor Comprehensive  Mobility Commercial Cover: Monthly   \n",
      "1000097  Motor Comprehensive  Mobility Commercial Cover: Monthly   \n",
      "\n",
      "        StatutoryClass StatutoryRiskType  \n",
      "1000093     Commercial     IFRS Constant  \n",
      "1000094     Commercial     IFRS Constant  \n",
      "1000095     Commercial     IFRS Constant  \n",
      "1000096     Commercial     IFRS Constant  \n",
      "1000097     Commercial     IFRS Constant  \n",
      "----------------------------------\n",
      "The date type of the columns:\n",
      "SumInsured                  float64\n",
      "TermFrequency                object\n",
      "CalculatedPremiumPerTerm    float64\n",
      "ExcessSelected               object\n",
      "CoverCategory                object\n",
      "CoverType                    object\n",
      "CoverGroup                   object\n",
      "Section                      object\n",
      "Product                      object\n",
      "StatutoryClass               object\n",
      "StatutoryRiskType            object\n",
      "dtype: object\n",
      "----------------------------------\n",
      "The count of unique values in the columns:\n",
      "SumInsured                   2186\n",
      "TermFrequency                   2\n",
      "CalculatedPremiumPerTerm    19869\n",
      "ExcessSelected                 13\n",
      "CoverCategory                  28\n",
      "CoverType                      22\n",
      "CoverGroup                     14\n",
      "Section                         5\n",
      "Product                         4\n",
      "StatutoryClass                  1\n",
      "StatutoryRiskType               1\n",
      "dtype: int64\n",
      "----------------------------------\n",
      "Check for missing values:\n",
      "SumInsured                  0\n",
      "TermFrequency               0\n",
      "CalculatedPremiumPerTerm    0\n",
      "ExcessSelected              0\n",
      "CoverCategory               0\n",
      "CoverType                   0\n",
      "CoverGroup                  0\n",
      "Section                     0\n",
      "Product                     0\n",
      "StatutoryClass              0\n",
      "StatutoryRiskType           0\n",
      "dtype: int64\n"
     ]
    }
   ],
   "source": [
    "# List the columns overview for plan information\n",
    "plan = [ 'SumInsured', 'TermFrequency', 'CalculatedPremiumPerTerm',\n",
    "       'ExcessSelected', 'CoverCategory', 'CoverType', 'CoverGroup', 'Section',\n",
    "       'Product', 'StatutoryClass', 'StatutoryRiskType']\n",
    "\n",
    "dataAnalysis.columns_overview(plan)"
   ]
  },
  {
   "cell_type": "code",
   "execution_count": 23,
   "id": "4276e40c",
   "metadata": {},
   "outputs": [
    {
     "name": "stdout",
     "output_type": "stream",
     "text": [
      "\n",
      "Unique values in plan information columns:\n"
     ]
    },
    {
     "data": {
      "text/plain": [
       "{'TermFrequency': array(['Monthly', 'Annual'], dtype=object),\n",
       " 'StatutoryClass': array(['Commercial'], dtype=object),\n",
       " 'StatutoryRiskType': array(['IFRS Constant'], dtype=object)}"
      ]
     },
     "execution_count": 23,
     "metadata": {},
     "output_type": "execute_result"
    }
   ],
   "source": [
    "# List the unique values in the plan information columns\n",
    "plans = [ 'TermFrequency', 'StatutoryClass', 'StatutoryRiskType']\n",
    "\n",
    "print(\"\\nUnique values in plan information columns:\")\n",
    "dataAnalysis.show_unique_values(plans)"
   ]
  },
  {
   "cell_type": "markdown",
   "id": "3edcfe9f",
   "metadata": {},
   "source": [
    "The **Plan** columns are 'SumInsured', 'TermFrequency', 'CalculatedPremiumPerTerm',\n",
    "       'ExcessSelected', 'CoverCategory', 'CoverType', 'CoverGroup', 'Section',\n",
    "       'Product', 'StatutoryClass', and 'StatutoryRiskType'.\n",
    "- **TermFrequency**: **2** unique value which are 'Monthly', and 'Annual'.\n",
    "- **StatutoryClass**: **1** unique values: Commercial.\n",
    "- **StatutoryRiskType**: **1** unique values: IFRS Constant.\n",
    "- The columns are **object** except two columns **SumInsured** and **CalculatedPremiumPerTerm** which are float.\n",
    "- **No missing values** in all columns."
   ]
  },
  {
   "cell_type": "markdown",
   "id": "9d626c67",
   "metadata": {},
   "source": [
    "### Payment and Claim"
   ]
  },
  {
   "cell_type": "code",
   "execution_count": 24,
   "id": "e4e643cd",
   "metadata": {},
   "outputs": [
    {
     "name": "stdout",
     "output_type": "stream",
     "text": [
      "The first 5 rows\n",
      "   TotalPremium  TotalClaims\n",
      "0     21.929825          0.0\n",
      "1     21.929825          0.0\n",
      "2      0.000000          0.0\n",
      "3    512.848070          0.0\n",
      "4      0.000000          0.0\n",
      "----------------------------------\n",
      "The last 5 rows\n",
      "         TotalPremium  TotalClaims\n",
      "1000093    347.235175          0.0\n",
      "1000094    347.235175          0.0\n",
      "1000095    347.235175          0.0\n",
      "1000096      2.315000          0.0\n",
      "1000097      2.315000          0.0\n",
      "----------------------------------\n",
      "The date type of the columns:\n",
      "TotalPremium    float64\n",
      "TotalClaims     float64\n",
      "dtype: object\n",
      "----------------------------------\n",
      "The count of unique values in the columns:\n",
      "TotalPremium    38959\n",
      "TotalClaims      1615\n",
      "dtype: int64\n",
      "----------------------------------\n",
      "Check for missing values:\n",
      "TotalPremium    0\n",
      "TotalClaims     0\n",
      "dtype: int64\n"
     ]
    }
   ],
   "source": [
    "# List the columns overview for payment_and_claim information\n",
    "payment_and_claim = [ 'TotalPremium', 'TotalClaims']\n",
    "\n",
    "dataAnalysis.columns_overview(payment_and_claim)"
   ]
  },
  {
   "cell_type": "markdown",
   "id": "66031fac",
   "metadata": {},
   "source": [
    "The **Payment and Claim** columns are 'TotalPremium', and 'TotalClaims'.\n",
    "- The columns are **float**.\n",
    "- **No missing values** in all columns."
   ]
  },
  {
   "cell_type": "code",
   "execution_count": 25,
   "id": "d6736d09",
   "metadata": {},
   "outputs": [
    {
     "name": "stdout",
     "output_type": "stream",
     "text": [
      "Data saved as ../data/cleaned/ProcessedMachineLearningRating_v3.csv\n"
     ]
    }
   ],
   "source": [
    "# Save processed data to csv\n",
    "csvfile = '../data/cleaned/ProcessedMachineLearningRating_v3.csv'\n",
    "\n",
    "df.to_csv(csvfile, index=False)\n",
    "print(f\"Data saved as {csvfile}\")"
   ]
  },
  {
   "cell_type": "code",
   "execution_count": 26,
   "id": "8b2e2e9b",
   "metadata": {},
   "outputs": [
    {
     "name": "stdout",
     "output_type": "stream",
     "text": [
      "Citizenship: 4 unique values\n",
      "LegalType: 6 unique values\n",
      "Title: 5 unique values\n",
      "Language: 1 unique values\n",
      "Bank: 11 unique values\n",
      "AccountType: 3 unique values\n",
      "MaritalStatus: 3 unique values\n",
      "Gender: 3 unique values\n",
      "Country: 1 unique values\n",
      "Province: 9 unique values\n",
      "MainCrestaZone: 16 unique values\n",
      "SubCrestaZone: 45 unique values\n",
      "ItemType: 1 unique values\n",
      "VehicleType: 5 unique values\n",
      "make: 46 unique values\n",
      "Model: 411 unique values\n",
      "bodytype: 13 unique values\n",
      "AlarmImmobiliser: 2 unique values\n",
      "TrackingDevice: 2 unique values\n",
      "CapitalOutstanding: 1011 unique values\n",
      "NewVehicle: 2 unique values\n",
      "WrittenOff: 2 unique values\n",
      "Rebuilt: 2 unique values\n",
      "Converted: 2 unique values\n",
      "CrossBorder: 1 unique values\n",
      "TermFrequency: 2 unique values\n",
      "ExcessSelected: 13 unique values\n",
      "CoverCategory: 28 unique values\n",
      "CoverType: 22 unique values\n",
      "CoverGroup: 14 unique values\n",
      "Section: 5 unique values\n",
      "Product: 4 unique values\n",
      "StatutoryClass: 1 unique values\n",
      "StatutoryRiskType: 1 unique values\n",
      "TransactionMonth range: 2013-10-01 00:00:00 to 2015-08-01 00:00:00\n",
      "RegistrationYear range: 1987-01-01 00:00:00 to 2015-01-01 00:00:00\n",
      "VehicleIntroDate range: 1977-10-01 00:00:00 to 2014-09-01 00:00:00\n"
     ]
    }
   ],
   "source": [
    "# Data types overview\n",
    "dtype_report = df.dtypes\n",
    "\n",
    "# Categorical variables check\n",
    "categorical_cols = df.select_dtypes(include=['object', 'category']).columns\n",
    "for col in categorical_cols:\n",
    "    print(f\"{col}: {df[col].nunique()} unique values\")\n",
    "\n",
    "# Date variables check\n",
    "date_cols = df.select_dtypes(include=['datetime64']).columns\n",
    "for col in date_cols:\n",
    "    print(f\"{col} range: {df[col].min()} to {df[col].max()}\")"
   ]
  }
 ],
 "metadata": {
  "kernelspec": {
   "display_name": ".venv",
   "language": "python",
   "name": "python3"
  },
  "language_info": {
   "codemirror_mode": {
    "name": "ipython",
    "version": 3
   },
   "file_extension": ".py",
   "mimetype": "text/x-python",
   "name": "python",
   "nbconvert_exporter": "python",
   "pygments_lexer": "ipython3",
   "version": "3.12.10"
  }
 },
 "nbformat": 4,
 "nbformat_minor": 5
}
