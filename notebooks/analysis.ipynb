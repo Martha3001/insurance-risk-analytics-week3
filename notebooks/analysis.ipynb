{
 "cells": [
  {
   "cell_type": "markdown",
   "id": "af671c45",
   "metadata": {},
   "source": [
    "# Exploratory Data Analysis (EDA)"
   ]
  },
  {
   "cell_type": "markdown",
   "id": "c2eb1da2",
   "metadata": {},
   "source": [
    "## Import Dependenices and Custom Modules"
   ]
  },
  {
   "cell_type": "code",
   "execution_count": 1,
   "id": "5d56b792",
   "metadata": {},
   "outputs": [],
   "source": [
    "import numpy as np\n",
    "import pandas as pd\n",
    "import matplotlib.pyplot as plt\n",
    "import os\n",
    "import sys\n",
    "module_path = os.path.abspath(os.path.join('..'))\n",
    "if module_path not in sys.path:\n",
    "    sys.path.append(module_path)\n",
    "\n",
    "from scripts.data_loader import DataLoader\n",
    "from scripts.data_analysis import DataAnalysis\n",
    "from scripts.data_visualize import DataVisualize"
   ]
  },
  {
   "cell_type": "code",
   "execution_count": 2,
   "id": "d41a3d31",
   "metadata": {},
   "outputs": [
    {
     "name": "stderr",
     "output_type": "stream",
     "text": [
      "C:\\Users\\user\\AppData\\Local\\Temp\\ipykernel_10504\\1472265654.py:5: DtypeWarning: Columns (32,37) have mixed types. Specify dtype option on import or set low_memory=False.\n",
      "  df = pd.read_csv('../data/MachineLearningRating_v3.csv')\n"
     ]
    }
   ],
   "source": [
    "# Loads a dataset from a text file and saves it as a CSV file.\n",
    "# dataLoader = DataLoader()\n",
    "# df = dataLoader.load_and_save_as_csv('../data/MachineLearningRating_v3.txt')\n",
    "\n",
    "df = pd.read_csv('../data/MachineLearningRating_v3.csv')\n",
    "\n",
    "dataAnalysis = DataAnalysis(df)\n",
    "dataVisualize = DataVisualize(df)"
   ]
  },
  {
   "cell_type": "code",
   "execution_count": 3,
   "id": "f1f09d66",
   "metadata": {},
   "outputs": [
    {
     "name": "stdout",
     "output_type": "stream",
     "text": [
      "Columns in the DataFrame:\n",
      "Index(['UnderwrittenCoverID', 'PolicyID', 'TransactionMonth',\n",
      "       'IsVATRegistered', 'Citizenship', 'LegalType', 'Title', 'Language',\n",
      "       'Bank', 'AccountType', 'MaritalStatus', 'Gender', 'Country', 'Province',\n",
      "       'PostalCode', 'MainCrestaZone', 'SubCrestaZone', 'ItemType', 'mmcode',\n",
      "       'VehicleType', 'RegistrationYear', 'make', 'Model', 'Cylinders',\n",
      "       'cubiccapacity', 'kilowatts', 'bodytype', 'NumberOfDoors',\n",
      "       'VehicleIntroDate', 'CustomValueEstimate', 'AlarmImmobiliser',\n",
      "       'TrackingDevice', 'CapitalOutstanding', 'NewVehicle', 'WrittenOff',\n",
      "       'Rebuilt', 'Converted', 'CrossBorder', 'NumberOfVehiclesInFleet',\n",
      "       'SumInsured', 'TermFrequency', 'CalculatedPremiumPerTerm',\n",
      "       'ExcessSelected', 'CoverCategory', 'CoverType', 'CoverGroup', 'Section',\n",
      "       'Product', 'StatutoryClass', 'StatutoryRiskType', 'TotalPremium',\n",
      "       'TotalClaims'],\n",
      "      dtype='object')\n"
     ]
    }
   ],
   "source": [
    "# List the columns of the DataFrame\n",
    "print(\"Columns in the DataFrame:\")\n",
    "print(df.columns)"
   ]
  },
  {
   "cell_type": "code",
   "execution_count": 4,
   "id": "8f21a039",
   "metadata": {},
   "outputs": [
    {
     "name": "stdout",
     "output_type": "stream",
     "text": [
      "\n",
      "Shape of the DataFrame:\n",
      "(1000098, 52)\n"
     ]
    }
   ],
   "source": [
    "# List the shape of the DataFrame\n",
    "print(\"\\nShape of the DataFrame:\")\n",
    "print(df.shape)"
   ]
  },
  {
   "cell_type": "code",
   "execution_count": 5,
   "id": "0df11ab1",
   "metadata": {},
   "outputs": [
    {
     "name": "stdout",
     "output_type": "stream",
     "text": [
      "Check for duplicate values:\n",
      "0\n"
     ]
    }
   ],
   "source": [
    "# Check duplicate values\n",
    "print(\"Check for duplicate values:\")\n",
    "print(df.duplicated().sum())"
   ]
  },
  {
   "cell_type": "markdown",
   "id": "136b8171",
   "metadata": {},
   "source": [
    "- The number of rows is 10000098 and the number of columns is 52 with no duplicate value"
   ]
  },
  {
   "cell_type": "markdown",
   "id": "d3ab0417",
   "metadata": {},
   "source": [
    "## Data Understanding"
   ]
  },
  {
   "cell_type": "markdown",
   "id": "0a3dba8a",
   "metadata": {},
   "source": [
    "### Insurance Policy"
   ]
  },
  {
   "cell_type": "code",
   "execution_count": 6,
   "id": "eae5a35e",
   "metadata": {},
   "outputs": [
    {
     "name": "stdout",
     "output_type": "stream",
     "text": [
      "The first 5 rows\n",
      "   UnderwrittenCoverID  PolicyID\n",
      "0               145249     12827\n",
      "1               145249     12827\n",
      "2               145249     12827\n",
      "3               145255     12827\n",
      "4               145255     12827\n",
      "----------------------------------\n",
      "The last 5 rows\n",
      "         UnderwrittenCoverID  PolicyID\n",
      "1000093                31520       389\n",
      "1000094                31520       389\n",
      "1000095                31520       389\n",
      "1000096                31519       389\n",
      "1000097                31519       389\n",
      "----------------------------------\n",
      "The date type of the columns:\n",
      "UnderwrittenCoverID    int64\n",
      "PolicyID               int64\n",
      "dtype: object\n",
      "----------------------------------\n",
      "The count of unique values in the columns:\n",
      "UnderwrittenCoverID    116532\n",
      "PolicyID                 7000\n",
      "dtype: int64\n",
      "----------------------------------\n",
      "Check for missing values:\n",
      "UnderwrittenCoverID    0\n",
      "PolicyID               0\n",
      "dtype: int64\n"
     ]
    }
   ],
   "source": [
    "# List the columns overview for insurance policies\n",
    "insurance_policy_columns = [ 'UnderwrittenCoverID', 'PolicyID']\n",
    "\n",
    "dataAnalysis.columns_overview(insurance_policy_columns)"
   ]
  },
  {
   "cell_type": "markdown",
   "id": "e198597d",
   "metadata": {},
   "source": [
    "The **Insurance Policy** columns are UnderwrittenCoverID and PolicyID.\n",
    "- **UnderwrittenCoverID**: Unique identifier for a specific insurance coverage with **116532** unique values.\n",
    "- **PolicyID**: Identifier for an entire insurance policy with **7000** unique values.\n",
    "- The columns are **integer**.\n",
    "- **No missing values** in both columns.\n",
    "- PolicyID is many-to-one: each policy covers multiple UnderwrittenCoverIDs."
   ]
  },
  {
   "cell_type": "markdown",
   "id": "189fab64",
   "metadata": {},
   "source": [
    "### Transaction Date"
   ]
  },
  {
   "cell_type": "code",
   "execution_count": 7,
   "id": "2349adde",
   "metadata": {},
   "outputs": [
    {
     "name": "stdout",
     "output_type": "stream",
     "text": [
      "The first 5 rows\n",
      "0    2015-03-01 00:00:00\n",
      "1    2015-05-01 00:00:00\n",
      "2    2015-07-01 00:00:00\n",
      "3    2015-05-01 00:00:00\n",
      "4    2015-07-01 00:00:00\n",
      "Name: TransactionMonth, dtype: object\n",
      "----------------------------------\n",
      "The last 5 rows\n",
      "1000093    2015-04-01 00:00:00\n",
      "1000094    2015-06-01 00:00:00\n",
      "1000095    2015-08-01 00:00:00\n",
      "1000096    2014-07-01 00:00:00\n",
      "1000097    2015-02-01 00:00:00\n",
      "Name: TransactionMonth, dtype: object\n",
      "----------------------------------\n",
      "The date type of the columns:\n",
      "object\n",
      "----------------------------------\n",
      "The count of unique values in the columns:\n",
      "23\n",
      "----------------------------------\n",
      "Check for missing values:\n",
      "0\n"
     ]
    }
   ],
   "source": [
    "# List the column overview for transaction date\n",
    "dataAnalysis.columns_overview('TransactionMonth')"
   ]
  },
  {
   "cell_type": "code",
   "execution_count": 8,
   "id": "3a7a8fa2",
   "metadata": {},
   "outputs": [],
   "source": [
    "# Convert the 'TransactionMonth' column to datetime format\n",
    "df['TransactionMonth'] = pd.to_datetime(df['TransactionMonth'], format='mixed')\n",
    "df['TransactionMonth'] = df['TransactionMonth'].dt.strftime('%Y-%m-%d')"
   ]
  },
  {
   "cell_type": "code",
   "execution_count": 9,
   "id": "090a39d6",
   "metadata": {},
   "outputs": [
    {
     "name": "stdout",
     "output_type": "stream",
     "text": [
      "\n",
      "23 Months in the dataset:\n"
     ]
    },
    {
     "data": {
      "text/plain": [
       "['2013-10-01',\n",
       " '2013-11-01',\n",
       " '2013-12-01',\n",
       " '2014-01-01',\n",
       " '2014-02-01',\n",
       " '2014-03-01',\n",
       " '2014-04-01',\n",
       " '2014-05-01',\n",
       " '2014-06-01',\n",
       " '2014-07-01',\n",
       " '2014-08-01',\n",
       " '2014-09-01',\n",
       " '2014-10-01',\n",
       " '2014-11-01',\n",
       " '2014-12-01',\n",
       " '2015-01-01',\n",
       " '2015-02-01',\n",
       " '2015-03-01',\n",
       " '2015-04-01',\n",
       " '2015-05-01',\n",
       " '2015-06-01',\n",
       " '2015-07-01',\n",
       " '2015-08-01']"
      ]
     },
     "execution_count": 9,
     "metadata": {},
     "output_type": "execute_result"
    }
   ],
   "source": [
    "# List of unique Months in the dataset\n",
    "print(\"\\n23 Months in the dataset:\")\n",
    "dataAnalysis.show_unique_values('TransactionMonth')"
   ]
  },
  {
   "cell_type": "code",
   "execution_count": 10,
   "id": "b5b8c9fd",
   "metadata": {},
   "outputs": [
    {
     "data": {
      "image/png": "[encoded data removed]",
      "text/plain": [
       "<Figure size 1000x300 with 1 Axes>"
      ]
     },
     "metadata": {},
     "output_type": "display_data"
    }
   ],
   "source": [
    "# Plot the transaction month distribution\n",
    "dataVisualize.plot_value_counts_distributions('TransactionMonth')"
   ]
  },
  {
   "cell_type": "markdown",
   "id": "7873daaa",
   "metadata": {},
   "source": [
    "The **Transaction Date** column is TransactionMonth.\n",
    "- **TransactionMonth**: Month the transaction occurred with **23** unique values.\n",
    "- Intialy the column was **object**, now changed to **datetime** format.\n",
    "- **No missing values** in the column.\n",
    "- The date is from October 2013 to August 2015.\n",
    "- There is an increase of transation over time."
   ]
  },
  {
   "cell_type": "markdown",
   "id": "f51264cf",
   "metadata": {},
   "source": [
    "### Columns about the client"
   ]
  },
  {
   "cell_type": "code",
   "execution_count": 11,
   "id": "def0cbd1",
   "metadata": {},
   "outputs": [
    {
     "name": "stdout",
     "output_type": "stream",
     "text": [
      "The first 5 rows\n",
      "   IsVATRegistered Citizenship          LegalType Title Language  \\\n",
      "0             True              Close Corporation    Mr  English   \n",
      "1             True              Close Corporation    Mr  English   \n",
      "2             True              Close Corporation    Mr  English   \n",
      "3             True              Close Corporation    Mr  English   \n",
      "4             True              Close Corporation    Mr  English   \n",
      "\n",
      "                  Bank      AccountType  MaritalStatus         Gender  \n",
      "0  First National Bank  Current account  Not specified  Not specified  \n",
      "1  First National Bank  Current account  Not specified  Not specified  \n",
      "2  First National Bank  Current account  Not specified  Not specified  \n",
      "3  First National Bank  Current account  Not specified  Not specified  \n",
      "4  First National Bank  Current account  Not specified  Not specified  \n",
      "----------------------------------\n",
      "The last 5 rows\n",
      "         IsVATRegistered Citizenship   LegalType Title Language       Bank  \\\n",
      "1000093            False          ZW  Individual    Mr  English  ABSA Bank   \n",
      "1000094            False          ZW  Individual    Mr  English  ABSA Bank   \n",
      "1000095            False          ZW  Individual    Mr  English  ABSA Bank   \n",
      "1000096            False          ZW  Individual    Mr  English  ABSA Bank   \n",
      "1000097            False          ZW  Individual    Mr  English  ABSA Bank   \n",
      "\n",
      "             AccountType MaritalStatus Gender  \n",
      "1000093  Savings account        Single   Male  \n",
      "1000094  Savings account        Single   Male  \n",
      "1000095  Savings account        Single   Male  \n",
      "1000096  Savings account        Single   Male  \n",
      "1000097  Savings account        Single   Male  \n",
      "----------------------------------\n",
      "The date type of the columns:\n",
      "IsVATRegistered      bool\n",
      "Citizenship        object\n",
      "LegalType          object\n",
      "Title              object\n",
      "Language           object\n",
      "Bank               object\n",
      "AccountType        object\n",
      "MaritalStatus      object\n",
      "Gender             object\n",
      "dtype: object\n",
      "----------------------------------\n",
      "The count of unique values in the columns:\n",
      "IsVATRegistered     2\n",
      "Citizenship         4\n",
      "LegalType           6\n",
      "Title               5\n",
      "Language            1\n",
      "Bank               11\n",
      "AccountType         3\n",
      "MaritalStatus       3\n",
      "Gender              3\n",
      "dtype: int64\n",
      "----------------------------------\n",
      "Check for missing values:\n",
      "IsVATRegistered         0\n",
      "Citizenship             0\n",
      "LegalType               0\n",
      "Title                   0\n",
      "Language                0\n",
      "Bank               145961\n",
      "AccountType         40232\n",
      "MaritalStatus        8259\n",
      "Gender               9536\n",
      "dtype: int64\n"
     ]
    }
   ],
   "source": [
    "# List the columns overview for client information\n",
    "client_columns = [ 'IsVATRegistered', 'Citizenship', 'LegalType', 'Title', 'Language',\n",
    "       'Bank', 'AccountType', 'MaritalStatus', 'Gender']\n",
    "\n",
    "dataAnalysis.columns_overview(client_columns)"
   ]
  },
  {
   "cell_type": "code",
   "execution_count": 12,
   "id": "54d8bc8b",
   "metadata": {},
   "outputs": [
    {
     "name": "stdout",
     "output_type": "stream",
     "text": [
      "\n",
      "Unique values in client information columns:\n"
     ]
    },
    {
     "data": {
      "text/plain": [
       "{'IsVATRegistered': array([ True, False]),\n",
       " 'Citizenship': array(['  ', 'AF', 'ZA', 'ZW'], dtype=object),\n",
       " 'LegalType': array(['Close Corporation', 'Individual', 'Partnership',\n",
       "        'Private company', 'Public company', 'Sole proprieter'],\n",
       "       dtype=object),\n",
       " 'Title': array(['Mr', 'Dr', 'Miss', 'Mrs', 'Ms'], dtype=object),\n",
       " 'Language': array(['English'], dtype=object),\n",
       " 'Bank': array(['First National Bank', 'Standard Bank', nan, 'ABSA Bank',\n",
       "        'Capitec Bank', 'Nedbank', 'FirstRand Bank', 'Investec Bank',\n",
       "        'Ithala Bank', 'Old Mutual', 'Mercantile Lisbon Bank',\n",
       "        'RMB Private Bank'], dtype=object),\n",
       " 'AccountType': array(['Current account', 'Savings account', nan, 'Transmission account'],\n",
       "       dtype=object),\n",
       " 'MaritalStatus': array(['Not specified', 'Married', 'Single', nan], dtype=object),\n",
       " 'Gender': array(['Not specified', 'Male', 'Female', nan], dtype=object)}"
      ]
     },
     "execution_count": 12,
     "metadata": {},
     "output_type": "execute_result"
    }
   ],
   "source": [
    "# List the unique values in the client information columns\n",
    "print(\"\\nUnique values in client information columns:\")\n",
    "dataAnalysis.show_unique_values(client_columns)"
   ]
  },
  {
   "cell_type": "code",
   "execution_count": 13,
   "id": "f38b1443",
   "metadata": {},
   "outputs": [],
   "source": [
    "# Fill '  ' values in 'Citizenship' with 'Not specified'\n",
    "df.loc[(df['Citizenship'] == '  '), 'Citizenship'] = 'Not specified'"
   ]
  },
  {
   "cell_type": "code",
   "execution_count": 14,
   "id": "11d0e7c6",
   "metadata": {},
   "outputs": [],
   "source": [
    "# Drop a column from the DataFrame since it has same value\n",
    "df = df.drop('Language', axis=1)"
   ]
  },
  {
   "cell_type": "code",
   "execution_count": 15,
   "id": "5161ae27",
   "metadata": {},
   "outputs": [
    {
     "name": "stdout",
     "output_type": "stream",
     "text": [
      "Remaining missing bank values: 0\n",
      "Remaining missing AccountType values: 0\n"
     ]
    }
   ],
   "source": [
    "# Fill missing values in 'Bank' &  'AccountType' with 'Not specified'\n",
    "df.loc[(df['Bank'].isna()), 'Bank'] = 'Not specified'\n",
    "print(f\"Remaining missing bank values: {df['Bank'].isna().sum()}\")\n",
    "\n",
    "df.loc[(df['AccountType'].isna()), 'AccountType'] = 'Not specified'\n",
    "print(f\"Remaining missing AccountType values: {df['AccountType'].isna().sum()}\")"
   ]
  },
  {
   "cell_type": "code",
   "execution_count": 16,
   "id": "b14b1098",
   "metadata": {},
   "outputs": [
    {
     "name": "stdout",
     "output_type": "stream",
     "text": [
      "Filled 0 missing maritalStatus values\n",
      "Filled 51740 Not specified maritalStatus values\n",
      "Filled 8259 missing maritalStatus values\n",
      "Remaining missing maritalStatus values: 0\n"
     ]
    }
   ],
   "source": [
    "# Define title-maritalStatus mappings\n",
    "title_maritalStatus_map = {\n",
    "    'Mrs': 'Married',\n",
    "    'Miss': 'Single'\n",
    "}\n",
    "\n",
    "missing_before = df['MaritalStatus'].isna().sum()\n",
    "not_specified_before = len(df[df['MaritalStatus'] == 'Not specified'])\n",
    "\n",
    "# Apply mappings where Gender is missing/unspecified\n",
    "for title, maritalStatus in title_maritalStatus_map.items():\n",
    "    df.loc[(df['Title'] == title) & \n",
    "           (df['MaritalStatus'].isna() | (df['MaritalStatus'] == 'Not specified')), \n",
    "           'MaritalStatus'] = maritalStatus\n",
    "    \n",
    "    \n",
    "missing_after = df['MaritalStatus'].isna().sum()\n",
    "not_specified_after = len(df[df['MaritalStatus'] == 'Not specified'])\n",
    "\n",
    "print(f\"Filled {missing_before - missing_after} missing maritalStatus values\")\n",
    "print(f\"Filled {not_specified_before - not_specified_after} Not specified maritalStatus values\")\n",
    "\n",
    "# Fill remaining missing values in 'MaritalStatus' with 'Not specified'\n",
    "df.loc[(df['MaritalStatus'].isna()), 'MaritalStatus'] = 'Not specified'\n",
    "\n",
    "missing_after_filling = df['MaritalStatus'].isna().sum()\n",
    "print(f\"Filled {missing_after} missing maritalStatus values\")\n",
    "print(f\"Remaining missing maritalStatus values: {missing_after_filling}\")"
   ]
  },
  {
   "cell_type": "code",
   "execution_count": 17,
   "id": "bb7568c1",
   "metadata": {},
   "outputs": [
    {
     "name": "stdout",
     "output_type": "stream",
     "text": [
      "Filled 9536 missing gender values\n",
      "Filled 940180 Not specified gender values\n",
      "Remaining missing gender values: 0\n"
     ]
    }
   ],
   "source": [
    "# Define title-gender mappings\n",
    "title_gender_map = {\n",
    "    'Mr': 'Male',\n",
    "    'Mrs': 'Female',\n",
    "    'Miss': 'Female',\n",
    "    'Ms': 'Female'\n",
    "}\n",
    "\n",
    "missing_before = df['Gender'].isna().sum()\n",
    "not_specified_before = len(df[df['Gender'] == 'Not specified'])\n",
    "\n",
    "# Apply mappings where Gender is missing/unspecified\n",
    "for title, gender in title_gender_map.items():\n",
    "    df.loc[(df['Title'] == title) & \n",
    "           (df['Gender'].isna() | (df['Gender'] == 'Not specified')), \n",
    "           'Gender'] = gender\n",
    "    \n",
    "missing_after = df['Gender'].isna().sum()\n",
    "not_specified_after = len(df[df['Gender'] == 'Not specified'])\n",
    "\n",
    "\n",
    "print(f\"Filled {missing_before - missing_after} missing gender values\")\n",
    "print(f\"Filled {not_specified_before - not_specified_after} Not specified gender values\")\n",
    "print(f\"Remaining missing gender values: {missing_after}\")"
   ]
  },
  {
   "cell_type": "code",
   "execution_count": 18,
   "id": "d44177af",
   "metadata": {},
   "outputs": [
    {
     "data": {
      "image/png": "[encoded data removed]",
      "text/plain": [
       "<Figure size 800x800 with 1 Axes>"
      ]
     },
     "metadata": {},
     "output_type": "display_data"
    },
    {
     "data": {
      "image/png": "[encoded data removed]",
      "text/plain": [
       "<Figure size 800x800 with 1 Axes>"
      ]
     },
     "metadata": {},
     "output_type": "display_data"
    },
    {
     "data": {
      "image/png": "[encoded data removed]",
      "text/plain": [
       "<Figure size 800x800 with 1 Axes>"
      ]
     },
     "metadata": {},
     "output_type": "display_data"
    },
    {
     "data": {
      "image/png": "[encoded data removed]",
      "text/plain": [
       "<Figure size 800x800 with 1 Axes>"
      ]
     },
     "metadata": {},
     "output_type": "display_data"
    }
   ],
   "source": [
    "# Plot pie chart for some of client_columns\n",
    "plot_pie = [ 'IsVATRegistered', 'AccountType', 'MaritalStatus', 'Gender']\n",
    "\n",
    "dataVisualize.plot_pie_chart(plot_pie)"
   ]
  },
  {
   "cell_type": "code",
   "execution_count": 19,
   "id": "c9324fc1",
   "metadata": {},
   "outputs": [
    {
     "data": {
      "image/png": "[encoded data removed]",
      "text/plain": [
       "<Figure size 1200x400 with 1 Axes>"
      ]
     },
     "metadata": {},
     "output_type": "display_data"
    },
    {
     "data": {
      "image/png": "[encoded data removed]",
      "text/plain": [
       "<Figure size 1200x400 with 1 Axes>"
      ]
     },
     "metadata": {},
     "output_type": "display_data"
    },
    {
     "data": {
      "image/png": "[encoded data removed]",
      "text/plain": [
       "<Figure size 1200x400 with 1 Axes>"
      ]
     },
     "metadata": {},
     "output_type": "display_data"
    },
    {
     "data": {
      "image/png": "[encoded data removed]",
      "text/plain": [
       "<Figure size 1200x400 with 1 Axes>"
      ]
     },
     "metadata": {},
     "output_type": "display_data"
    }
   ],
   "source": [
    "# plot bar chart for some of client_columns\n",
    "client_columns_filtered = [ 'Citizenship', 'LegalType', 'Title', 'Bank']\n",
    "\n",
    "dataVisualize.plot_value_counts_distributions(client_columns_filtered, figsize=(12, 8))"
   ]
  },
  {
   "cell_type": "markdown",
   "id": "dabcdc93",
   "metadata": {},
   "source": [
    "The **Client Information** columns are IsVATRegistered, Citizenship, LegalType, Title, Language,\n",
    "       Bank, AccountType, MaritalStatus and Gender.\n",
    "- **IsVATRegistered**: indicates business registration for tax occurred with **2** unique values.\n",
    "    - **Values:** True(0.5%), False(99.5%)\n",
    "- **Citizenship**: **4** unique values.\n",
    "    - **Values:** 'Not specified' used to be '  '(highest), 'AF', 'ZA', 'ZW'\n",
    "- **LegalType**: **6** unique values.\n",
    "    - **Values:** 'Close Corporation', 'Individual'(highest), 'Partnership',\n",
    "        'Private company', 'Public company', 'Sole proprieter'\n",
    "- **Title**: **5** unique values.\n",
    "    - **Values:** 'Mr'(highest), 'Dr', 'Miss', 'Mrs', 'Ms'\n",
    "- **Language**: **1** unique values which is dropped because it has the same value.\n",
    "    - All of the **Value** of the column is English.\n",
    "- **Bank**: **11** unique values.\n",
    "    - Highest value is First National Bank\n",
    "- **AccountType**: **3** unique values added **1** column.\n",
    "    - **Values:** 'Current account'(highest), 'Savings account', 'Not specified', 'Transmission account'\n",
    "- **MaritalStatus**: **3** unique values.\n",
    "    - **Values:** 'Not specified'(highest), 'Married', 'Single'\n",
    "- **Gender**: **3** unique values.\n",
    "    - **Values:** 'Not specified', 'Male'(highest), 'Female'\n",
    "- IsVATRegistered is **boolean** data type but the remaining columns are **object** datatype\n",
    "- There were **missing value** in columns: \n",
    "    - Bank and AccountType filled with Unknown. \n",
    "    - MaritalStatus and Gender filled with Not specified."
   ]
  },
  {
   "cell_type": "markdown",
   "id": "23544d15",
   "metadata": {},
   "source": [
    "### Client Location"
   ]
  },
  {
   "cell_type": "code",
   "execution_count": 20,
   "id": "a023dbe0",
   "metadata": {},
   "outputs": [
    {
     "name": "stdout",
     "output_type": "stream",
     "text": [
      "The first 5 rows\n",
      "        Country Province  PostalCode MainCrestaZone SubCrestaZone\n",
      "0  South Africa  Gauteng        1459      Rand East     Rand East\n",
      "1  South Africa  Gauteng        1459      Rand East     Rand East\n",
      "2  South Africa  Gauteng        1459      Rand East     Rand East\n",
      "3  South Africa  Gauteng        1459      Rand East     Rand East\n",
      "4  South Africa  Gauteng        1459      Rand East     Rand East\n",
      "----------------------------------\n",
      "The last 5 rows\n",
      "              Country      Province  PostalCode  \\\n",
      "1000093  South Africa  Western Cape        7493   \n",
      "1000094  South Africa  Western Cape        7493   \n",
      "1000095  South Africa  Western Cape        7493   \n",
      "1000096  South Africa  Western Cape        7493   \n",
      "1000097  South Africa  Western Cape        7493   \n",
      "\n",
      "                           MainCrestaZone    SubCrestaZone  \n",
      "1000093  Karoo 1 (Northeast of Cape Town)  Northeast of CT  \n",
      "1000094  Karoo 1 (Northeast of Cape Town)  Northeast of CT  \n",
      "1000095  Karoo 1 (Northeast of Cape Town)  Northeast of CT  \n",
      "1000096  Karoo 1 (Northeast of Cape Town)  Northeast of CT  \n",
      "1000097  Karoo 1 (Northeast of Cape Town)  Northeast of CT  \n",
      "----------------------------------\n",
      "The date type of the columns:\n",
      "Country           object\n",
      "Province          object\n",
      "PostalCode         int64\n",
      "MainCrestaZone    object\n",
      "SubCrestaZone     object\n",
      "dtype: object\n",
      "----------------------------------\n",
      "The count of unique values in the columns:\n",
      "Country             1\n",
      "Province            9\n",
      "PostalCode        888\n",
      "MainCrestaZone     16\n",
      "SubCrestaZone      45\n",
      "dtype: int64\n",
      "----------------------------------\n",
      "Check for missing values:\n",
      "Country           0\n",
      "Province          0\n",
      "PostalCode        0\n",
      "MainCrestaZone    0\n",
      "SubCrestaZone     0\n",
      "dtype: int64\n"
     ]
    }
   ],
   "source": [
    "# List the columns overview for client location information\n",
    "client_location_columns = [ 'Country', 'Province', 'PostalCode', 'MainCrestaZone', 'SubCrestaZone']\n",
    "\n",
    "dataAnalysis.columns_overview(client_location_columns)"
   ]
  },
  {
   "cell_type": "code",
   "execution_count": 21,
   "id": "b4fa7864",
   "metadata": {},
   "outputs": [
    {
     "name": "stdout",
     "output_type": "stream",
     "text": [
      "\n",
      "Unique values in client location information columns:\n"
     ]
    },
    {
     "data": {
      "text/plain": [
       "{'Country': array(['South Africa'], dtype=object),\n",
       " 'Province': array(['Gauteng', 'KwaZulu-Natal', 'Mpumalanga', 'Eastern Cape',\n",
       "        'Western Cape', 'Limpopo', 'North West', 'Free State',\n",
       "        'Northern Cape'], dtype=object),\n",
       " 'MainCrestaZone': array(['Rand East', 'Transvaal (all except Pretoria)', 'Johannesburg',\n",
       "        'Natal (Durban)', 'Tembu 2, Cape Mid 2, Cape Mid West, Tembu 1',\n",
       "        'Transvaal (Pretoria)', 'Natal', 'Cape Province (Cape Town)',\n",
       "        'Langkloof, Coast 2, Coast 1',\n",
       "        'Cape Province (East and North of Cape Town)', 'Oranje Free State',\n",
       "        'East London', 'Port Elizabeth', 'Ciskei, Cape Mid 1',\n",
       "        'Cape Province', 'Karoo 1 (Northeast of Cape Town)'], dtype=object),\n",
       " 'SubCrestaZone': array(['Rand East', 'Transvaal South', 'Johannesburg', 'Durban',\n",
       "        'Transvaal South East', 'Cape Mid West', 'Pretoria', 'Rand West',\n",
       "        'North Coast', 'Cape Town', 'Transvaal North', 'Langkloof',\n",
       "        'Transvaal North West', 'Transvaal East', 'East and North of',\n",
       "        'Drakensberg', 'Natal 1', 'Zululand', 'Highveld', 'Pondo',\n",
       "        'Tembu 1', 'East London', 'Tembu 2', 'Cape Mid 2',\n",
       "        'Port Elizabeth', 'Cape Mid 1', 'Bushveld', 'Natal 2', 'Natal 3',\n",
       "        'South Coast', 'Transvaal Mid West', 'Kalahari', 'Vaalhartz',\n",
       "        'Herbert', 'Coast 1', 'Karoo 1', 'Northeast of CT', 'Bloemfontein',\n",
       "        'Transvaal South West', 'Namakwa', 'Ciskei', 'OFS North 1 and',\n",
       "        'Coast 2', 'Natal Cape', 'Karoo 2'], dtype=object)}"
      ]
     },
     "execution_count": 21,
     "metadata": {},
     "output_type": "execute_result"
    }
   ],
   "source": [
    "# List the unique values in the client information columns\n",
    "client_location_columns_without_PostalCode = [col for col in client_location_columns if col != 'PostalCode']\n",
    "print(\"\\nUnique values in client location information columns:\")\n",
    "dataAnalysis.show_unique_values(client_location_columns_without_PostalCode)"
   ]
  },
  {
   "cell_type": "code",
   "execution_count": 22,
   "id": "7314348d",
   "metadata": {},
   "outputs": [],
   "source": [
    "# Drop a column from the DataFrame since it has same value\n",
    "df = df.drop('Country', axis=1)"
   ]
  },
  {
   "cell_type": "code",
   "execution_count": 23,
   "id": "11ab5ec1",
   "metadata": {},
   "outputs": [
    {
     "data": {
      "image/png": "[encoded data removed]",
      "text/plain": [
       "<Figure size 1000x300 with 1 Axes>"
      ]
     },
     "metadata": {},
     "output_type": "display_data"
    }
   ],
   "source": [
    "dataVisualize.plot_value_counts_distributions('Province')"
   ]
  },
  {
   "cell_type": "markdown",
   "id": "e6b0b280",
   "metadata": {},
   "source": [
    "The **Client Location** columns are 'Country', 'Province', 'PostalCode', 'MainCrestaZone' and 'SubCrestaZone'.\n",
    "- **Country**: South Africa with **1** unique values so it was dropped.\n",
    "- **Provice**: **9** unique values with Gauteng the highest count.\n",
    "- The columns are **object** except **PostalCode** which is integer.\n",
    "- **No missing values** in all columns."
   ]
  },
  {
   "cell_type": "markdown",
   "id": "9ab63b4a",
   "metadata": {},
   "source": [
    "### Car Insured"
   ]
  },
  {
   "cell_type": "code",
   "execution_count": 24,
   "id": "60b30d9a",
   "metadata": {},
   "outputs": [
    {
     "name": "stdout",
     "output_type": "stream",
     "text": [
      "The first 5 rows\n",
      "           ItemType      mmcode        VehicleType  RegistrationYear  \\\n",
      "0  Mobility - Motor  44069150.0  Passenger Vehicle              2004   \n",
      "1  Mobility - Motor  44069150.0  Passenger Vehicle              2004   \n",
      "2  Mobility - Motor  44069150.0  Passenger Vehicle              2004   \n",
      "3  Mobility - Motor  44069150.0  Passenger Vehicle              2004   \n",
      "4  Mobility - Motor  44069150.0  Passenger Vehicle              2004   \n",
      "\n",
      "            make  Model  Cylinders  cubiccapacity  kilowatts bodytype  \\\n",
      "0  MERCEDES-BENZ  E 240        6.0         2597.0      130.0      S/D   \n",
      "1  MERCEDES-BENZ  E 240        6.0         2597.0      130.0      S/D   \n",
      "2  MERCEDES-BENZ  E 240        6.0         2597.0      130.0      S/D   \n",
      "3  MERCEDES-BENZ  E 240        6.0         2597.0      130.0      S/D   \n",
      "4  MERCEDES-BENZ  E 240        6.0         2597.0      130.0      S/D   \n",
      "\n",
      "   NumberOfDoors  \n",
      "0            4.0  \n",
      "1            4.0  \n",
      "2            4.0  \n",
      "3            4.0  \n",
      "4            4.0  \n",
      "----------------------------------\n",
      "The last 5 rows\n",
      "                 ItemType     mmcode        VehicleType  RegistrationYear  \\\n",
      "1000093  Mobility - Motor  4614100.0  Passenger Vehicle              2013   \n",
      "1000094  Mobility - Motor  4614100.0  Passenger Vehicle              2013   \n",
      "1000095  Mobility - Motor  4614100.0  Passenger Vehicle              2013   \n",
      "1000096  Mobility - Motor  4614100.0  Passenger Vehicle              2013   \n",
      "1000097  Mobility - Motor  4614100.0  Passenger Vehicle              2013   \n",
      "\n",
      "          make                  Model  Cylinders  cubiccapacity  kilowatts  \\\n",
      "1000093  B.A.W  SASUKA 2.7i (16 SEAT)        4.0         2693.0      110.0   \n",
      "1000094  B.A.W  SASUKA 2.7i (16 SEAT)        4.0         2693.0      110.0   \n",
      "1000095  B.A.W  SASUKA 2.7i (16 SEAT)        4.0         2693.0      110.0   \n",
      "1000096  B.A.W  SASUKA 2.7i (16 SEAT)        4.0         2693.0      110.0   \n",
      "1000097  B.A.W  SASUKA 2.7i (16 SEAT)        4.0         2693.0      110.0   \n",
      "\n",
      "        bodytype  NumberOfDoors  \n",
      "1000093      B/S            4.0  \n",
      "1000094      B/S            4.0  \n",
      "1000095      B/S            4.0  \n",
      "1000096      B/S            4.0  \n",
      "1000097      B/S            4.0  \n",
      "----------------------------------\n",
      "The date type of the columns:\n",
      "ItemType             object\n",
      "mmcode              float64\n",
      "VehicleType          object\n",
      "RegistrationYear      int64\n",
      "make                 object\n",
      "Model                object\n",
      "Cylinders           float64\n",
      "cubiccapacity       float64\n",
      "kilowatts           float64\n",
      "bodytype             object\n",
      "NumberOfDoors       float64\n",
      "dtype: object\n",
      "----------------------------------\n",
      "The count of unique values in the columns:\n",
      "ItemType              1\n",
      "mmcode              427\n",
      "VehicleType           5\n",
      "RegistrationYear     25\n",
      "make                 46\n",
      "Model               411\n",
      "Cylinders             7\n",
      "cubiccapacity       122\n",
      "kilowatts            82\n",
      "bodytype             13\n",
      "NumberOfDoors         6\n",
      "dtype: int64\n",
      "----------------------------------\n",
      "Check for missing values:\n",
      "ItemType              0\n",
      "mmcode              552\n",
      "VehicleType         552\n",
      "RegistrationYear      0\n",
      "make                552\n",
      "Model               552\n",
      "Cylinders           552\n",
      "cubiccapacity       552\n",
      "kilowatts           552\n",
      "bodytype            552\n",
      "NumberOfDoors       552\n",
      "dtype: int64\n"
     ]
    }
   ],
   "source": [
    "# List the columns overview for  car insured information\n",
    "car_insured_columns = [ 'ItemType', 'mmcode',\n",
    "       'VehicleType', 'RegistrationYear', 'make', 'Model', 'Cylinders',\n",
    "       'cubiccapacity', 'kilowatts', 'bodytype', 'NumberOfDoors']\n",
    "\n",
    "dataAnalysis.columns_overview(car_insured_columns)"
   ]
  },
  {
   "cell_type": "code",
   "execution_count": 25,
   "id": "ad044e33",
   "metadata": {},
   "outputs": [
    {
     "name": "stdout",
     "output_type": "stream",
     "text": [
      "The first 5 rows\n",
      "  VehicleIntroDate  CustomValueEstimate AlarmImmobiliser TrackingDevice  \\\n",
      "0           6/2002             119300.0              Yes             No   \n",
      "1           6/2002             119300.0              Yes             No   \n",
      "2           6/2002             119300.0              Yes             No   \n",
      "3           6/2002             119300.0              Yes             No   \n",
      "4           6/2002             119300.0              Yes             No   \n",
      "\n",
      "  CapitalOutstanding          NewVehicle WrittenOff Rebuilt Converted  \\\n",
      "0             119300  More than 6 months        NaN     NaN       NaN   \n",
      "1             119300  More than 6 months        NaN     NaN       NaN   \n",
      "2             119300  More than 6 months        NaN     NaN       NaN   \n",
      "3             119300  More than 6 months        NaN     NaN       NaN   \n",
      "4             119300  More than 6 months        NaN     NaN       NaN   \n",
      "\n",
      "  CrossBorder  NumberOfVehiclesInFleet  \n",
      "0         NaN                      NaN  \n",
      "1         NaN                      NaN  \n",
      "2         NaN                      NaN  \n",
      "3         NaN                      NaN  \n",
      "4         NaN                      NaN  \n",
      "----------------------------------\n",
      "The last 5 rows\n",
      "               VehicleIntroDate  CustomValueEstimate AlarmImmobiliser  \\\n",
      "1000093  2013/01/01 12:00:00 AM                  NaN              Yes   \n",
      "1000094  2013/01/01 12:00:00 AM                  NaN              Yes   \n",
      "1000095  2013/01/01 12:00:00 AM                  NaN              Yes   \n",
      "1000096  2013/01/01 12:00:00 AM                  NaN              Yes   \n",
      "1000097  2013/01/01 12:00:00 AM                  NaN              Yes   \n",
      "\n",
      "        TrackingDevice CapitalOutstanding          NewVehicle WrittenOff  \\\n",
      "1000093             No                  0  More than 6 months         No   \n",
      "1000094             No                  0  More than 6 months         No   \n",
      "1000095             No                  0  More than 6 months         No   \n",
      "1000096             No                  0  More than 6 months         No   \n",
      "1000097             No                  0  More than 6 months         No   \n",
      "\n",
      "        Rebuilt Converted CrossBorder  NumberOfVehiclesInFleet  \n",
      "1000093      No        No         NaN                      NaN  \n",
      "1000094      No        No         NaN                      NaN  \n",
      "1000095      No        No         NaN                      NaN  \n",
      "1000096      No        No         NaN                      NaN  \n",
      "1000097      No        No         NaN                      NaN  \n",
      "----------------------------------\n",
      "The date type of the columns:\n",
      "VehicleIntroDate            object\n",
      "CustomValueEstimate        float64\n",
      "AlarmImmobiliser            object\n",
      "TrackingDevice              object\n",
      "CapitalOutstanding          object\n",
      "NewVehicle                  object\n",
      "WrittenOff                  object\n",
      "Rebuilt                     object\n",
      "Converted                   object\n",
      "CrossBorder                 object\n",
      "NumberOfVehiclesInFleet    float64\n",
      "dtype: object\n",
      "----------------------------------\n",
      "The count of unique values in the columns:\n",
      "VehicleIntroDate            174\n",
      "CustomValueEstimate         923\n",
      "AlarmImmobiliser              2\n",
      "TrackingDevice                2\n",
      "CapitalOutstanding         1011\n",
      "NewVehicle                    2\n",
      "WrittenOff                    2\n",
      "Rebuilt                       2\n",
      "Converted                     2\n",
      "CrossBorder                   1\n",
      "NumberOfVehiclesInFleet       0\n",
      "dtype: int64\n",
      "----------------------------------\n",
      "Check for missing values:\n",
      "VehicleIntroDate               552\n",
      "CustomValueEstimate         779642\n",
      "AlarmImmobiliser                 0\n",
      "TrackingDevice                   0\n",
      "CapitalOutstanding               2\n",
      "NewVehicle                  153295\n",
      "WrittenOff                  641901\n",
      "Rebuilt                     641901\n",
      "Converted                   641901\n",
      "CrossBorder                 999400\n",
      "NumberOfVehiclesInFleet    1000098\n",
      "dtype: int64\n"
     ]
    }
   ],
   "source": [
    "car_insured_columns = [ 'VehicleIntroDate', 'CustomValueEstimate', 'AlarmImmobiliser',\n",
    "       'TrackingDevice', 'CapitalOutstanding', 'NewVehicle', 'WrittenOff',\n",
    "       'Rebuilt', 'Converted', 'CrossBorder', 'NumberOfVehiclesInFleet']\n",
    "\n",
    "dataAnalysis.columns_overview(car_insured_columns)"
   ]
  },
  {
   "cell_type": "code",
   "execution_count": 26,
   "id": "1802351b",
   "metadata": {},
   "outputs": [
    {
     "name": "stdout",
     "output_type": "stream",
     "text": [
      "\n",
      "Unique values in car insured information columns:\n"
     ]
    },
    {
     "data": {
      "text/plain": [
       "{'ItemType': array(['Mobility - Motor'], dtype=object),\n",
       " 'VehicleType': array(['Passenger Vehicle', 'Medium Commercial', 'Heavy Commercial',\n",
       "        'Light Commercial', 'Bus', nan], dtype=object),\n",
       " 'RegistrationYear': array([2004, 2006, 2009, 2011, 2007, 2014, 2010, 2013, 2008, 2015, 2012,\n",
       "        2005, 1998, 1995, 2000, 2003, 1999, 2001, 1997, 1994, 2002, 1996,\n",
       "        1992, 1987, 1988]),\n",
       " 'make': array(['MERCEDES-BENZ', 'VOLKSWAGEN', 'RENAULT', 'FORD', 'BMW', 'AUDI',\n",
       "        'VOLVO', 'PROTON', 'TOYOTA', 'NISSAN/DATSUN                      ',\n",
       "        'CMC', 'MERCEDES-BENZ                      ', 'C.A.M', 'POLARSUN',\n",
       "        'NISSAN', 'IVECO', 'FIAT', 'TOYOTA                             ',\n",
       "        'JINBEI', 'HYUNDAI', 'GOLDEN JOURNEY', 'KIA', 'MITSUBISHI', 'TATA',\n",
       "        'MAZDA', 'CITROEN                            ', 'FOTON', 'B.A.W',\n",
       "        'PEUGEOT', 'JINBEI                             ',\n",
       "        'SUZUKI                             ',\n",
       "        'CHERY                              ', 'SAIC',\n",
       "        'JMC                                ', 'HINO', 'HONDA',\n",
       "        'CHEVROLET', nan, 'OPEL', 'FORD                               ',\n",
       "        'MAHINDRA', 'DAIHATSU', 'GEELY                              ',\n",
       "        'SCANIA', 'LEXUS', 'HUMMER', 'MARCOPOLO'], dtype=object),\n",
       " 'Cylinders': array([ 6., 10.,  4.,  5.,  3.,  0., nan,  8.]),\n",
       " 'bodytype': array(['S/D', 'SUV', 'MPV', 'H/B', 'P/V', 'B/S', 'S/W', 'C/C', 'D/C',\n",
       "        'D/S', 'S/C', 'C/P', nan, 'CCL'], dtype=object),\n",
       " 'NumberOfDoors': array([ 4.,  5.,  2.,  0.,  3.,  6., nan]),\n",
       " 'AlarmImmobiliser': array(['Yes', 'No'], dtype=object),\n",
       " 'TrackingDevice': array(['No', 'Yes'], dtype=object),\n",
       " 'NewVehicle': array(['More than 6 months', nan, 'Less than 6 months'], dtype=object),\n",
       " 'WrittenOff': array([nan, 'No', 'Yes'], dtype=object),\n",
       " 'Rebuilt': array([nan, 'No', 'Yes'], dtype=object),\n",
       " 'Converted': array([nan, 'No', 'Yes'], dtype=object),\n",
       " 'CrossBorder': array([nan, 'No'], dtype=object)}"
      ]
     },
     "execution_count": 26,
     "metadata": {},
     "output_type": "execute_result"
    }
   ],
   "source": [
    "# List the unique values in the car insured information columns\n",
    "some_car_insured_columns = [ 'ItemType', 'VehicleType', 'RegistrationYear', \n",
    "        'make', 'Cylinders', 'bodytype', 'NumberOfDoors', 'AlarmImmobiliser',\n",
    "       'TrackingDevice', 'NewVehicle', 'WrittenOff',\n",
    "       'Rebuilt', 'Converted', 'CrossBorder']\n",
    "print(\"\\nUnique values in car insured information columns:\")\n",
    "dataAnalysis.show_unique_values(some_car_insured_columns)"
   ]
  },
  {
   "cell_type": "code",
   "execution_count": 27,
   "id": "596a542e",
   "metadata": {},
   "outputs": [
    {
     "name": "stderr",
     "output_type": "stream",
     "text": [
      "C:\\Users\\user\\AppData\\Local\\Temp\\ipykernel_10504\\288970683.py:2: UserWarning: Could not infer format, so each element will be parsed individually, falling back to `dateutil`. To ensure parsing is consistent and as-expected, please specify a format.\n",
      "  df['VehicleIntroDate'] = pd.to_datetime(df['VehicleIntroDate'])\n"
     ]
    }
   ],
   "source": [
    "df['RegistrationYear'] = pd.to_datetime(df['RegistrationYear'])\n",
    "df['VehicleIntroDate'] = pd.to_datetime(df['VehicleIntroDate'])\n",
    "# Replace comma with dot and convert to float\n",
    "df['CapitalOutstanding'] = df['CapitalOutstanding'].str.replace(',', '.')\n",
    "df['CapitalOutstanding'] = pd.to_numeric(df['CapitalOutstanding'])\n"
   ]
  },
  {
   "cell_type": "code",
   "execution_count": 28,
   "id": "bf947b49",
   "metadata": {},
   "outputs": [
    {
     "data": {
      "text/plain": [
       "353"
      ]
     },
     "execution_count": 28,
     "metadata": {},
     "output_type": "execute_result"
    }
   ],
   "source": [
    "df['CapitalOutstanding'] = pd.to_numeric(df['CapitalOutstanding'])\n",
    "df['CapitalOutstanding'].nunique()"
   ]
  },
  {
   "cell_type": "code",
   "execution_count": 29,
   "id": "28d18dd0",
   "metadata": {},
   "outputs": [],
   "source": [
    "df['Cylinders'] = df['Cylinders'].astype('Int64')\n",
    "df['NumberOfDoors'] = df['NumberOfDoors'].astype('Int64')"
   ]
  },
  {
   "cell_type": "code",
   "execution_count": 30,
   "id": "f4b02476",
   "metadata": {},
   "outputs": [],
   "source": [
    "# df['CustomValueEstimate'].fillna(df['CustomValueEstimate'].median(), inplace=True)\n",
    "# df[['WrittenOff', 'Rebuilt', 'Converted']] = df[['WrittenOff', 'Rebuilt', 'Converted']].fillna('Not specified')\n"
   ]
  },
  {
   "cell_type": "code",
   "execution_count": 31,
   "id": "020c49a0",
   "metadata": {},
   "outputs": [
    {
     "data": {
      "text/plain": [
       "array(['MERCEDES-BENZ', 'VOLKSWAGEN', 'RENAULT', 'FORD', 'BMW', 'AUDI',\n",
       "       'VOLVO', 'PROTON', 'TOYOTA', 'NISSAN/DATSUN', 'CMC', 'C.A.M',\n",
       "       'POLARSUN', 'NISSAN', 'IVECO', 'FIAT', 'JINBEI', 'HYUNDAI',\n",
       "       'GOLDEN JOURNEY', 'KIA', 'MITSUBISHI', 'TATA', 'MAZDA', 'CITROEN',\n",
       "       'FOTON', 'B.A.W', 'PEUGEOT', 'SUZUKI', 'CHERY', 'SAIC', 'JMC',\n",
       "       'HINO', 'HONDA', 'CHEVROLET', nan, 'OPEL', 'MAHINDRA', 'DAIHATSU',\n",
       "       'GEELY', 'SCANIA', 'LEXUS', 'HUMMER', 'MARCOPOLO'], dtype=object)"
      ]
     },
     "execution_count": 31,
     "metadata": {},
     "output_type": "execute_result"
    }
   ],
   "source": [
    "# Remove any trailing space\n",
    "df['make'] = df['make'].str.strip()\n",
    "df['Model'] = df['Model'].str.strip()\n",
    "\n",
    "df['make'].unique()"
   ]
  },
  {
   "cell_type": "code",
   "execution_count": 32,
   "id": "825332c6",
   "metadata": {},
   "outputs": [
    {
     "name": "stdout",
     "output_type": "stream",
     "text": [
      "Number of rows with all 552-value columns missing: 552\n"
     ]
    },
    {
     "data": {
      "application/vnd.microsoft.datawrangler.viewer.v0+json": {
       "columns": [
        {
         "name": "index",
         "rawType": "int64",
         "type": "integer"
        },
        {
         "name": "UnderwrittenCoverID",
         "rawType": "int64",
         "type": "integer"
        },
        {
         "name": "PolicyID",
         "rawType": "int64",
         "type": "integer"
        },
        {
         "name": "TransactionMonth",
         "rawType": "object",
         "type": "string"
        },
        {
         "name": "IsVATRegistered",
         "rawType": "bool",
         "type": "boolean"
        },
        {
         "name": "Citizenship",
         "rawType": "object",
         "type": "string"
        },
        {
         "name": "LegalType",
         "rawType": "object",
         "type": "string"
        },
        {
         "name": "Title",
         "rawType": "object",
         "type": "string"
        },
        {
         "name": "Bank",
         "rawType": "object",
         "type": "string"
        },
        {
         "name": "AccountType",
         "rawType": "object",
         "type": "string"
        },
        {
         "name": "MaritalStatus",
         "rawType": "object",
         "type": "string"
        },
        {
         "name": "Gender",
         "rawType": "object",
         "type": "string"
        },
        {
         "name": "Province",
         "rawType": "object",
         "type": "string"
        },
        {
         "name": "PostalCode",
         "rawType": "int64",
         "type": "integer"
        },
        {
         "name": "MainCrestaZone",
         "rawType": "object",
         "type": "string"
        },
        {
         "name": "SubCrestaZone",
         "rawType": "object",
         "type": "string"
        },
        {
         "name": "ItemType",
         "rawType": "object",
         "type": "string"
        },
        {
         "name": "mmcode",
         "rawType": "float64",
         "type": "float"
        },
        {
         "name": "VehicleType",
         "rawType": "object",
         "type": "unknown"
        },
        {
         "name": "RegistrationYear",
         "rawType": "datetime64[ns]",
         "type": "datetime"
        },
        {
         "name": "make",
         "rawType": "object",
         "type": "unknown"
        },
        {
         "name": "Model",
         "rawType": "object",
         "type": "unknown"
        },
        {
         "name": "Cylinders",
         "rawType": "Int64",
         "type": "integer"
        },
        {
         "name": "cubiccapacity",
         "rawType": "float64",
         "type": "float"
        },
        {
         "name": "kilowatts",
         "rawType": "float64",
         "type": "float"
        },
        {
         "name": "bodytype",
         "rawType": "object",
         "type": "unknown"
        },
        {
         "name": "NumberOfDoors",
         "rawType": "Int64",
         "type": "integer"
        },
        {
         "name": "VehicleIntroDate",
         "rawType": "datetime64[ns]",
         "type": "datetime"
        },
        {
         "name": "CustomValueEstimate",
         "rawType": "float64",
         "type": "float"
        },
        {
         "name": "AlarmImmobiliser",
         "rawType": "object",
         "type": "string"
        },
        {
         "name": "TrackingDevice",
         "rawType": "object",
         "type": "string"
        },
        {
         "name": "CapitalOutstanding",
         "rawType": "float64",
         "type": "float"
        },
        {
         "name": "NewVehicle",
         "rawType": "object",
         "type": "string"
        },
        {
         "name": "WrittenOff",
         "rawType": "object",
         "type": "unknown"
        },
        {
         "name": "Rebuilt",
         "rawType": "object",
         "type": "unknown"
        },
        {
         "name": "Converted",
         "rawType": "object",
         "type": "unknown"
        },
        {
         "name": "CrossBorder",
         "rawType": "object",
         "type": "unknown"
        },
        {
         "name": "NumberOfVehiclesInFleet",
         "rawType": "float64",
         "type": "float"
        },
        {
         "name": "SumInsured",
         "rawType": "float64",
         "type": "float"
        },
        {
         "name": "TermFrequency",
         "rawType": "object",
         "type": "string"
        },
        {
         "name": "CalculatedPremiumPerTerm",
         "rawType": "float64",
         "type": "float"
        },
        {
         "name": "ExcessSelected",
         "rawType": "object",
         "type": "string"
        },
        {
         "name": "CoverCategory",
         "rawType": "object",
         "type": "string"
        },
        {
         "name": "CoverType",
         "rawType": "object",
         "type": "string"
        },
        {
         "name": "CoverGroup",
         "rawType": "object",
         "type": "string"
        },
        {
         "name": "Section",
         "rawType": "object",
         "type": "string"
        },
        {
         "name": "Product",
         "rawType": "object",
         "type": "string"
        },
        {
         "name": "StatutoryClass",
         "rawType": "object",
         "type": "string"
        },
        {
         "name": "StatutoryRiskType",
         "rawType": "object",
         "type": "string"
        },
        {
         "name": "TotalPremium",
         "rawType": "float64",
         "type": "float"
        },
        {
         "name": "TotalClaims",
         "rawType": "float64",
         "type": "float"
        }
       ],
       "ref": "9405d608-7bec-499b-b4ee-ecdeda2ab6d9",
       "rows": [
        [
         "487033",
         "74751",
         "3844",
         "2015-02-01",
         "False",
         "Not specified",
         "Individual",
         "Mr",
         "Nedbank",
         "Savings account",
         "Not specified",
         "Male",
         "Mpumalanga",
         "1072",
         "Transvaal (all except Pretoria)",
         "Transvaal East",
         "Mobility - Motor",
         null,
         null,
         "1970-01-01 00:00:00.000002014",
         null,
         null,
         null,
         null,
         null,
         null,
         null,
         null,
         null,
         "Yes",
         "No",
         null,
         "More than 6 months",
         null,
         null,
         null,
         null,
         null,
         "5000.0",
         "Monthly",
         "1.1899",
         "No excess",
         "Keys and Alarms",
         "Keys and Alarms",
         "Comprehensive - Taxi",
         "Motor Comprehensive",
         "Mobility Commercial Cover: Monthly",
         "Commercial",
         "IFRS Constant",
         "0.0",
         "0.0"
        ],
        [
         "512140",
         "74753",
         "3844",
         "2014-10-01",
         "False",
         "Not specified",
         "Individual",
         "Mr",
         "Nedbank",
         "Savings account",
         "Not specified",
         "Male",
         "Mpumalanga",
         "1072",
         "Transvaal (all except Pretoria)",
         "Transvaal East",
         "Mobility - Motor",
         null,
         null,
         "1970-01-01 00:00:00.000002014",
         null,
         null,
         null,
         null,
         null,
         null,
         null,
         null,
         null,
         "Yes",
         "No",
         null,
         "More than 6 months",
         null,
         null,
         null,
         null,
         null,
         "3500.0",
         "Monthly",
         "0.5949",
         "No excess",
         "Signage and Vehicle Wraps",
         "Signage and Vehicle Wraps",
         "Comprehensive - Taxi",
         "Motor Comprehensive",
         "Mobility Commercial Cover: Monthly",
         "Commercial",
         "IFRS Constant",
         "0.521842105263",
         "0.0"
        ],
        [
         "512141",
         "74753",
         "3844",
         "2014-12-01",
         "False",
         "Not specified",
         "Individual",
         "Mr",
         "Nedbank",
         "Savings account",
         "Not specified",
         "Male",
         "Mpumalanga",
         "1072",
         "Transvaal (all except Pretoria)",
         "Transvaal East",
         "Mobility - Motor",
         null,
         null,
         "1970-01-01 00:00:00.000002014",
         null,
         null,
         null,
         null,
         null,
         null,
         null,
         null,
         null,
         "Yes",
         "No",
         null,
         "More than 6 months",
         null,
         null,
         null,
         null,
         null,
         "3500.0",
         "Monthly",
         "0.5949",
         "No excess",
         "Signage and Vehicle Wraps",
         "Signage and Vehicle Wraps",
         "Comprehensive - Taxi",
         "Motor Comprehensive",
         "Mobility Commercial Cover: Monthly",
         "Commercial",
         "IFRS Constant",
         "0.0",
         "0.0"
        ],
        [
         "512142",
         "74753",
         "3844",
         "2015-03-01",
         "False",
         "Not specified",
         "Individual",
         "Mr",
         "Nedbank",
         "Savings account",
         "Not specified",
         "Male",
         "Mpumalanga",
         "1072",
         "Transvaal (all except Pretoria)",
         "Transvaal East",
         "Mobility - Motor",
         null,
         null,
         "1970-01-01 00:00:00.000002014",
         null,
         null,
         null,
         null,
         null,
         null,
         null,
         null,
         null,
         "Yes",
         "No",
         null,
         "More than 6 months",
         null,
         null,
         null,
         null,
         null,
         "3500.0",
         "Monthly",
         "0.5949",
         "No excess",
         "Signage and Vehicle Wraps",
         "Signage and Vehicle Wraps",
         "Comprehensive - Taxi",
         "Motor Comprehensive",
         "Mobility Commercial Cover: Monthly",
         "Commercial",
         "IFRS Constant",
         "0.0",
         "0.0"
        ],
        [
         "512143",
         "74753",
         "3844",
         "2015-05-01",
         "False",
         "Not specified",
         "Individual",
         "Mr",
         "Nedbank",
         "Savings account",
         "Not specified",
         "Male",
         "Mpumalanga",
         "1072",
         "Transvaal (all except Pretoria)",
         "Transvaal East",
         "Mobility - Motor",
         null,
         null,
         "1970-01-01 00:00:00.000002014",
         null,
         null,
         null,
         null,
         null,
         null,
         null,
         null,
         null,
         "Yes",
         "No",
         null,
         "More than 6 months",
         null,
         null,
         null,
         null,
         null,
         "3500.0",
         "Monthly",
         "0.5949",
         "No excess",
         "Signage and Vehicle Wraps",
         "Signage and Vehicle Wraps",
         "Comprehensive - Taxi",
         "Motor Comprehensive",
         "Mobility Commercial Cover: Monthly",
         "Commercial",
         "IFRS Constant",
         "0.0",
         "0.0"
        ]
       ],
       "shape": {
        "columns": 50,
        "rows": 5
       }
      },
      "text/html": [
       "<div>\n",
       "<style scoped>\n",
       "    .dataframe tbody tr th:only-of-type {\n",
       "        vertical-align: middle;\n",
       "    }\n",
       "\n",
       "    .dataframe tbody tr th {\n",
       "        vertical-align: top;\n",
       "    }\n",
       "\n",
       "    .dataframe thead th {\n",
       "        text-align: right;\n",
       "    }\n",
       "</style>\n",
       "<table border=\"1\" class=\"dataframe\">\n",
       "  <thead>\n",
       "    <tr style=\"text-align: right;\">\n",
       "      <th></th>\n",
       "      <th>UnderwrittenCoverID</th>\n",
       "      <th>PolicyID</th>\n",
       "      <th>TransactionMonth</th>\n",
       "      <th>IsVATRegistered</th>\n",
       "      <th>Citizenship</th>\n",
       "      <th>LegalType</th>\n",
       "      <th>Title</th>\n",
       "      <th>Bank</th>\n",
       "      <th>AccountType</th>\n",
       "      <th>MaritalStatus</th>\n",
       "      <th>...</th>\n",
       "      <th>ExcessSelected</th>\n",
       "      <th>CoverCategory</th>\n",
       "      <th>CoverType</th>\n",
       "      <th>CoverGroup</th>\n",
       "      <th>Section</th>\n",
       "      <th>Product</th>\n",
       "      <th>StatutoryClass</th>\n",
       "      <th>StatutoryRiskType</th>\n",
       "      <th>TotalPremium</th>\n",
       "      <th>TotalClaims</th>\n",
       "    </tr>\n",
       "  </thead>\n",
       "  <tbody>\n",
       "    <tr>\n",
       "      <th>487033</th>\n",
       "      <td>74751</td>\n",
       "      <td>3844</td>\n",
       "      <td>2015-02-01</td>\n",
       "      <td>False</td>\n",
       "      <td>Not specified</td>\n",
       "      <td>Individual</td>\n",
       "      <td>Mr</td>\n",
       "      <td>Nedbank</td>\n",
       "      <td>Savings account</td>\n",
       "      <td>Not specified</td>\n",
       "      <td>...</td>\n",
       "      <td>No excess</td>\n",
       "      <td>Keys and Alarms</td>\n",
       "      <td>Keys and Alarms</td>\n",
       "      <td>Comprehensive - Taxi</td>\n",
       "      <td>Motor Comprehensive</td>\n",
       "      <td>Mobility Commercial Cover: Monthly</td>\n",
       "      <td>Commercial</td>\n",
       "      <td>IFRS Constant</td>\n",
       "      <td>0.000000</td>\n",
       "      <td>0.0</td>\n",
       "    </tr>\n",
       "    <tr>\n",
       "      <th>512140</th>\n",
       "      <td>74753</td>\n",
       "      <td>3844</td>\n",
       "      <td>2014-10-01</td>\n",
       "      <td>False</td>\n",
       "      <td>Not specified</td>\n",
       "      <td>Individual</td>\n",
       "      <td>Mr</td>\n",
       "      <td>Nedbank</td>\n",
       "      <td>Savings account</td>\n",
       "      <td>Not specified</td>\n",
       "      <td>...</td>\n",
       "      <td>No excess</td>\n",
       "      <td>Signage and Vehicle Wraps</td>\n",
       "      <td>Signage and Vehicle Wraps</td>\n",
       "      <td>Comprehensive - Taxi</td>\n",
       "      <td>Motor Comprehensive</td>\n",
       "      <td>Mobility Commercial Cover: Monthly</td>\n",
       "      <td>Commercial</td>\n",
       "      <td>IFRS Constant</td>\n",
       "      <td>0.521842</td>\n",
       "      <td>0.0</td>\n",
       "    </tr>\n",
       "    <tr>\n",
       "      <th>512141</th>\n",
       "      <td>74753</td>\n",
       "      <td>3844</td>\n",
       "      <td>2014-12-01</td>\n",
       "      <td>False</td>\n",
       "      <td>Not specified</td>\n",
       "      <td>Individual</td>\n",
       "      <td>Mr</td>\n",
       "      <td>Nedbank</td>\n",
       "      <td>Savings account</td>\n",
       "      <td>Not specified</td>\n",
       "      <td>...</td>\n",
       "      <td>No excess</td>\n",
       "      <td>Signage and Vehicle Wraps</td>\n",
       "      <td>Signage and Vehicle Wraps</td>\n",
       "      <td>Comprehensive - Taxi</td>\n",
       "      <td>Motor Comprehensive</td>\n",
       "      <td>Mobility Commercial Cover: Monthly</td>\n",
       "      <td>Commercial</td>\n",
       "      <td>IFRS Constant</td>\n",
       "      <td>0.000000</td>\n",
       "      <td>0.0</td>\n",
       "    </tr>\n",
       "    <tr>\n",
       "      <th>512142</th>\n",
       "      <td>74753</td>\n",
       "      <td>3844</td>\n",
       "      <td>2015-03-01</td>\n",
       "      <td>False</td>\n",
       "      <td>Not specified</td>\n",
       "      <td>Individual</td>\n",
       "      <td>Mr</td>\n",
       "      <td>Nedbank</td>\n",
       "      <td>Savings account</td>\n",
       "      <td>Not specified</td>\n",
       "      <td>...</td>\n",
       "      <td>No excess</td>\n",
       "      <td>Signage and Vehicle Wraps</td>\n",
       "      <td>Signage and Vehicle Wraps</td>\n",
       "      <td>Comprehensive - Taxi</td>\n",
       "      <td>Motor Comprehensive</td>\n",
       "      <td>Mobility Commercial Cover: Monthly</td>\n",
       "      <td>Commercial</td>\n",
       "      <td>IFRS Constant</td>\n",
       "      <td>0.000000</td>\n",
       "      <td>0.0</td>\n",
       "    </tr>\n",
       "    <tr>\n",
       "      <th>512143</th>\n",
       "      <td>74753</td>\n",
       "      <td>3844</td>\n",
       "      <td>2015-05-01</td>\n",
       "      <td>False</td>\n",
       "      <td>Not specified</td>\n",
       "      <td>Individual</td>\n",
       "      <td>Mr</td>\n",
       "      <td>Nedbank</td>\n",
       "      <td>Savings account</td>\n",
       "      <td>Not specified</td>\n",
       "      <td>...</td>\n",
       "      <td>No excess</td>\n",
       "      <td>Signage and Vehicle Wraps</td>\n",
       "      <td>Signage and Vehicle Wraps</td>\n",
       "      <td>Comprehensive - Taxi</td>\n",
       "      <td>Motor Comprehensive</td>\n",
       "      <td>Mobility Commercial Cover: Monthly</td>\n",
       "      <td>Commercial</td>\n",
       "      <td>IFRS Constant</td>\n",
       "      <td>0.000000</td>\n",
       "      <td>0.0</td>\n",
       "    </tr>\n",
       "  </tbody>\n",
       "</table>\n",
       "<p>5 rows × 50 columns</p>\n",
       "</div>"
      ],
      "text/plain": [
       "        UnderwrittenCoverID  PolicyID TransactionMonth  IsVATRegistered  \\\n",
       "487033                74751      3844       2015-02-01            False   \n",
       "512140                74753      3844       2014-10-01            False   \n",
       "512141                74753      3844       2014-12-01            False   \n",
       "512142                74753      3844       2015-03-01            False   \n",
       "512143                74753      3844       2015-05-01            False   \n",
       "\n",
       "          Citizenship   LegalType Title     Bank      AccountType  \\\n",
       "487033  Not specified  Individual    Mr  Nedbank  Savings account   \n",
       "512140  Not specified  Individual    Mr  Nedbank  Savings account   \n",
       "512141  Not specified  Individual    Mr  Nedbank  Savings account   \n",
       "512142  Not specified  Individual    Mr  Nedbank  Savings account   \n",
       "512143  Not specified  Individual    Mr  Nedbank  Savings account   \n",
       "\n",
       "        MaritalStatus  ... ExcessSelected              CoverCategory  \\\n",
       "487033  Not specified  ...      No excess            Keys and Alarms   \n",
       "512140  Not specified  ...      No excess  Signage and Vehicle Wraps   \n",
       "512141  Not specified  ...      No excess  Signage and Vehicle Wraps   \n",
       "512142  Not specified  ...      No excess  Signage and Vehicle Wraps   \n",
       "512143  Not specified  ...      No excess  Signage and Vehicle Wraps   \n",
       "\n",
       "                        CoverType            CoverGroup              Section  \\\n",
       "487033            Keys and Alarms  Comprehensive - Taxi  Motor Comprehensive   \n",
       "512140  Signage and Vehicle Wraps  Comprehensive - Taxi  Motor Comprehensive   \n",
       "512141  Signage and Vehicle Wraps  Comprehensive - Taxi  Motor Comprehensive   \n",
       "512142  Signage and Vehicle Wraps  Comprehensive - Taxi  Motor Comprehensive   \n",
       "512143  Signage and Vehicle Wraps  Comprehensive - Taxi  Motor Comprehensive   \n",
       "\n",
       "                                   Product  StatutoryClass StatutoryRiskType  \\\n",
       "487033  Mobility Commercial Cover: Monthly      Commercial     IFRS Constant   \n",
       "512140  Mobility Commercial Cover: Monthly      Commercial     IFRS Constant   \n",
       "512141  Mobility Commercial Cover: Monthly      Commercial     IFRS Constant   \n",
       "512142  Mobility Commercial Cover: Monthly      Commercial     IFRS Constant   \n",
       "512143  Mobility Commercial Cover: Monthly      Commercial     IFRS Constant   \n",
       "\n",
       "       TotalPremium TotalClaims  \n",
       "487033     0.000000         0.0  \n",
       "512140     0.521842         0.0  \n",
       "512141     0.000000         0.0  \n",
       "512142     0.000000         0.0  \n",
       "512143     0.000000         0.0  \n",
       "\n",
       "[5 rows x 50 columns]"
      ]
     },
     "execution_count": 32,
     "metadata": {},
     "output_type": "execute_result"
    }
   ],
   "source": [
    "cols_552 = [\n",
    "    'mmcode', 'VehicleType', 'make', 'Model', 'Cylinders',\n",
    "    'cubiccapacity', 'kilowatts', 'bodytype', 'NumberOfDoors',\n",
    "    'VehicleIntroDate'\n",
    "]\n",
    "missing_together = df[cols_552].isnull().all(axis=1)\n",
    "print(\"Number of rows with all 552-value columns missing:\", missing_together.sum())\n",
    "missing_df = df[missing_together]\n",
    "\n",
    "missing_df.head()\n"
   ]
  },
  {
   "cell_type": "code",
   "execution_count": 33,
   "id": "9791f97f",
   "metadata": {},
   "outputs": [],
   "source": [
    "# Drop a column from the DataFrame since it has same value, nearly no value and no value\n",
    "df.drop(columns=['ItemType', 'CrossBorder', 'NumberOfVehiclesInFleet'], inplace=True)"
   ]
  },
  {
   "cell_type": "markdown",
   "id": "b7674bea",
   "metadata": {},
   "source": [
    "The **Car Insured** columns are 'ItemType', 'mmcode',\n",
    "       'VehicleType', 'RegistrationYear', 'make', 'Model', 'Cylinders',\n",
    "       'cubiccapacity', 'kilowatts', 'bodytype', 'NumberOfDoors',\n",
    "       'VehicleIntroDate', 'CustomValueEstimate', 'AlarmImmobiliser',\n",
    "       'TrackingDevice', 'CapitalOutstanding', 'NewVehicle', 'WrittenOff',\n",
    "       'Rebuilt', 'Converted', 'CrossBorder' and 'NumberOfVehiclesInFleet'.\n",
    "- **ItemType**: Mobility - Motor with **1** unique values which was dropped due to have one value.\n",
    "- **Provice**: **9** unique values with Gauteng the highest count.\n",
    "- The columns are **object** except **PostalCode** which is integer.\n",
    "- \n",
    "- **Missing values** in columns: \n",
    "- All value is **missing** in column **NumberOfVehiclesInFleet** which was dropped."
   ]
  }
 ],
 "metadata": {
  "kernelspec": {
   "display_name": ".venv",
   "language": "python",
   "name": "python3"
  },
  "language_info": {
   "codemirror_mode": {
    "name": "ipython",
    "version": 3
   },
   "file_extension": ".py",
   "mimetype": "text/x-python",
   "name": "python",
   "nbconvert_exporter": "python",
   "pygments_lexer": "ipython3",
   "version": "3.12.10"
  }
 },
 "nbformat": 4,
 "nbformat_minor": 5
}
