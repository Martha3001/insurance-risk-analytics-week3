{
 "cells": [
  {
   "cell_type": "markdown",
   "id": "af671c45",
   "metadata": {},
   "source": [
    "# Exploratory Data Analysis (EDA)"
   ]
  },
  {
   "cell_type": "markdown",
   "id": "c2eb1da2",
   "metadata": {},
   "source": [
    "## Import Dependenices and Custom Modules"
   ]
  },
  {
   "cell_type": "code",
   "execution_count": 22,
   "id": "5d56b792",
   "metadata": {},
   "outputs": [],
   "source": [
    "import numpy as np\n",
    "import pandas as pd\n",
    "import matplotlib.pyplot as plt\n",
    "import os\n",
    "import sys\n",
    "module_path = os.path.abspath(os.path.join('..'))\n",
    "if module_path not in sys.path:\n",
    "    sys.path.append(module_path)\n",
    "\n",
    "from scripts.data_loader import DataLoader\n",
    "from scripts.data_analysis import DataAnalysis\n",
    "from scripts.data_visualize import DataVisualize"
   ]
  },
  {
   "cell_type": "code",
   "execution_count": 23,
   "id": "d41a3d31",
   "metadata": {},
   "outputs": [
    {
     "name": "stderr",
     "output_type": "stream",
     "text": [
      "g:\\KAIM\\week3\\insurance-risk-analytics-week3\\scripts\\data_loader.py:32: DtypeWarning: Columns (32,37) have mixed types. Specify dtype option on import or set low_memory=False.\n",
      "  data = pd.read_csv(csv_path)\n"
     ]
    },
    {
     "name": "stdout",
     "output_type": "stream",
     "text": [
      "Loaded data from ../data/cleaned/ProcessedMachineLearningRating_v3.csv\n"
     ]
    }
   ],
   "source": [
    "# Loads a dataset from a text file and saves it as a CSV file.\n",
    "dataLoader = DataLoader()\n",
    "df = dataLoader.load_csv('../data/cleaned/ProcessedMachineLearningRating_v3.csv')\n",
    "\n",
    "dataAnalysis = DataAnalysis(df)\n",
    "dataVisualize = DataVisualize(df)"
   ]
  },
  {
   "cell_type": "markdown",
   "id": "d3ab0417",
   "metadata": {},
   "source": [
    "## Data Analysis"
   ]
  },
  {
   "cell_type": "markdown",
   "id": "f51264cf",
   "metadata": {},
   "source": [
    "### Columns about the client"
   ]
  },
  {
   "cell_type": "code",
   "execution_count": 24,
   "id": "def0cbd1",
   "metadata": {},
   "outputs": [],
   "source": [
    "# List the columns overview for client information\n",
    "client_columns = [ 'IsVATRegistered', 'Citizenship', 'LegalType', 'Title', 'Language',\n",
    "       'Bank', 'AccountType', 'MaritalStatus', 'Gender']"
   ]
  },
  {
   "cell_type": "code",
   "execution_count": 25,
   "id": "f38b1443",
   "metadata": {},
   "outputs": [],
   "source": [
    "# Fill '  ' values in 'Citizenship' with 'Not specified'\n",
    "df.loc[(df['Citizenship'] == '  '), 'Citizenship'] = 'Not specified'"
   ]
  },
  {
   "cell_type": "code",
   "execution_count": 26,
   "id": "11d0e7c6",
   "metadata": {},
   "outputs": [],
   "source": [
    "# Drop a column from the DataFrame since it has same value\n",
    "df = dataAnalysis.drop_columns('Language')"
   ]
  },
  {
   "cell_type": "code",
   "execution_count": 27,
   "id": "5161ae27",
   "metadata": {},
   "outputs": [
    {
     "name": "stdout",
     "output_type": "stream",
     "text": [
      "Remaining missing bank values: 0\n",
      "Remaining missing bank values: 0\n"
     ]
    }
   ],
   "source": [
    "# Fill missing values in 'Bank' &  'AccountType' with 'Not specified'\n",
    "dataAnalysis.fill_with_not_specified('Bank')\n",
    "print(f\"Remaining missing bank values: {dataAnalysis.calculate_missing_value('Bank')}\")\n",
    "\n",
    "dataAnalysis.fill_with_not_specified('AccountType')\n",
    "print(f\"Remaining missing bank values: {dataAnalysis.calculate_missing_value('AccountType')}\")"
   ]
  },
  {
   "cell_type": "code",
   "execution_count": 28,
   "id": "b14b1098",
   "metadata": {},
   "outputs": [
    {
     "name": "stdout",
     "output_type": "stream",
     "text": [
      "Filled 0 missing maritalStatus values\n",
      "Filled 51740 Not specified maritalStatus values\n",
      "Filled 8259 missing maritalStatus values\n",
      "Remaining missing maritalStatus values: 0\n"
     ]
    }
   ],
   "source": [
    "# Define title-maritalStatus mappings\n",
    "title_maritalStatus_map = {\n",
    "    'Mrs': 'Married',\n",
    "    'Miss': 'Single'\n",
    "}\n",
    "\n",
    "missing_before = dataAnalysis.calculate_missing_value('MaritalStatus')\n",
    "not_specified_before = dataAnalysis.length_column_value('MaritalStatus', 'Not specified')\n",
    "\n",
    "# Apply mappings where Gender is missing/unspecified\n",
    "for title, maritalStatus in title_maritalStatus_map.items():\n",
    "    df.loc[(df['Title'] == title) & \n",
    "           (df['MaritalStatus'].isna() | (df['MaritalStatus'] == 'Not specified')), \n",
    "           'MaritalStatus'] = maritalStatus\n",
    "    \n",
    "    \n",
    "missing_after = dataAnalysis.calculate_missing_value('MaritalStatus')\n",
    "not_specified_after = dataAnalysis.length_column_value('MaritalStatus', 'Not specified')\n",
    "\n",
    "print(f\"Filled {missing_before - missing_after} missing maritalStatus values\")\n",
    "print(f\"Filled {not_specified_before - not_specified_after} Not specified maritalStatus values\")\n",
    "\n",
    "# Fill remaining missing values in 'MaritalStatus' with 'Not specified'\n",
    "dataAnalysis.fill_with_not_specified('MaritalStatus')\n",
    "\n",
    "missing_after_filling = dataAnalysis.calculate_missing_value('MaritalStatus')\n",
    "print(f\"Filled {missing_after} missing maritalStatus values\")\n",
    "print(f\"Remaining missing maritalStatus values: {missing_after_filling}\")"
   ]
  },
  {
   "cell_type": "code",
   "execution_count": 29,
   "id": "bb7568c1",
   "metadata": {},
   "outputs": [
    {
     "name": "stdout",
     "output_type": "stream",
     "text": [
      "Filled 9536 missing gender values\n",
      "Filled 940180 Not specified gender values\n",
      "Remaining missing gender values: 0\n"
     ]
    }
   ],
   "source": [
    "# Define title-gender mappings\n",
    "title_gender_map = {\n",
    "    'Mr': 'Male',\n",
    "    'Mrs': 'Female',\n",
    "    'Miss': 'Female',\n",
    "    'Ms': 'Female'\n",
    "}\n",
    "\n",
    "missing_before = dataAnalysis.calculate_missing_value('Gender')\n",
    "not_specified_before = dataAnalysis.length_column_value('Gender', 'Not specified')\n",
    "\n",
    "# Apply mappings where Gender is missing/unspecified\n",
    "for title, gender in title_gender_map.items():\n",
    "    df.loc[(df['Title'] == title) & \n",
    "           (df['Gender'].isna() | (df['Gender'] == 'Not specified')), \n",
    "           'Gender'] = gender\n",
    "    \n",
    "missing_after = dataAnalysis.calculate_missing_value('Gender')\n",
    "not_specified_after = dataAnalysis.length_column_value('Gender', 'Not specified')\n",
    "\n",
    "\n",
    "print(f\"Filled {missing_before - missing_after} missing gender values\")\n",
    "print(f\"Filled {not_specified_before - not_specified_after} Not specified gender values\")\n",
    "print(f\"Remaining missing gender values: {missing_after}\")"
   ]
  },
  {
   "cell_type": "markdown",
   "id": "dabcdc93",
   "metadata": {},
   "source": [
    "The **Client Information** columns are IsVATRegistered, Citizenship, LegalType, Title, Language,\n",
    "       Bank, AccountType, MaritalStatus and Gender.\n",
    "- **Citizenship**: '  ' filled with 'Not specified'\n",
    "- **Language**: Dropped because it has the same value which is English.\n",
    "- **AccountType**: Filled missing values with 'Not specified'\n",
    "- **MaritalStatus**: Filled title with Mrs by Married and Miss by single and missing values with 'Not specified'\n",
    "- **Gender**: Filled title with Mrs, Miss, Mr by Female and Mr by Male "
   ]
  },
  {
   "cell_type": "markdown",
   "id": "23544d15",
   "metadata": {},
   "source": [
    "### Client Location"
   ]
  },
  {
   "cell_type": "code",
   "execution_count": 30,
   "id": "a023dbe0",
   "metadata": {},
   "outputs": [],
   "source": [
    "# List the columns overview for client location information\n",
    "client_location_columns = [ 'Country', 'Province', 'PostalCode', 'MainCrestaZone', 'SubCrestaZone']"
   ]
  },
  {
   "cell_type": "code",
   "execution_count": 31,
   "id": "7314348d",
   "metadata": {},
   "outputs": [],
   "source": [
    "# Drop a column from the DataFrame since it has same value\n",
    "df = dataAnalysis.drop_columns('Country')"
   ]
  },
  {
   "cell_type": "markdown",
   "id": "e6b0b280",
   "metadata": {},
   "source": [
    "The **Client Location** columns are 'Country', 'Province', 'PostalCode', 'MainCrestaZone' and 'SubCrestaZone'.\n",
    "- **Country**: column was dropped because it has one unique value South Africa with **1** unique values so it was dropped.\n"
   ]
  },
  {
   "cell_type": "markdown",
   "id": "9ab63b4a",
   "metadata": {},
   "source": [
    "### Car Insured"
   ]
  },
  {
   "cell_type": "code",
   "execution_count": 32,
   "id": "60b30d9a",
   "metadata": {},
   "outputs": [],
   "source": [
    "# List the columns overview for  car insured information\n",
    "car_insured_columns1 = [ 'ItemType', 'mmcode',\n",
    "       'VehicleType', 'RegistrationYear', 'make', 'Model', 'Cylinders',\n",
    "       'cubiccapacity', 'kilowatts', 'bodytype', 'NumberOfDoors']"
   ]
  },
  {
   "cell_type": "code",
   "execution_count": 33,
   "id": "292c1155",
   "metadata": {},
   "outputs": [],
   "source": [
    "df = dataAnalysis.drop_columns('ItemType')"
   ]
  },
  {
   "cell_type": "code",
   "execution_count": 34,
   "id": "6aa25cc7",
   "metadata": {},
   "outputs": [
    {
     "data": {
      "text/plain": [
       "array(['MERCEDES-BENZ', 'VOLKSWAGEN', 'RENAULT', 'FORD', 'BMW', 'AUDI',\n",
       "       'VOLVO', 'PROTON', 'TOYOTA', 'NISSAN/DATSUN', 'CMC', 'C.A.M',\n",
       "       'POLARSUN', 'NISSAN', 'IVECO', 'FIAT', 'JINBEI', 'HYUNDAI',\n",
       "       'GOLDEN JOURNEY', 'KIA', 'MITSUBISHI', 'TATA', 'MAZDA', 'CITROEN',\n",
       "       'FOTON', 'B.A.W', 'PEUGEOT', 'SUZUKI', 'CHERY', 'SAIC', 'JMC',\n",
       "       'HINO', 'HONDA', 'CHEVROLET', nan, 'OPEL', 'MAHINDRA', 'DAIHATSU',\n",
       "       'GEELY', 'SCANIA', 'LEXUS', 'HUMMER', 'MARCOPOLO'], dtype=object)"
      ]
     },
     "execution_count": 34,
     "metadata": {},
     "output_type": "execute_result"
    }
   ],
   "source": [
    "# Remove any trailing space\n",
    "df['make'] = df['make'].str.strip()\n",
    "df['Model'] = df['Model'].str.strip()\n",
    "\n",
    "df['make'].unique()"
   ]
  },
  {
   "cell_type": "code",
   "execution_count": 35,
   "id": "ce8a06b9",
   "metadata": {},
   "outputs": [
    {
     "name": "stdout",
     "output_type": "stream",
     "text": [
      "Number of rows with all 552-value columns missing: 552\n"
     ]
    }
   ],
   "source": [
    "cols_552 = [\n",
    "    'mmcode', 'VehicleType', 'make', 'Model', 'Cylinders',\n",
    "    'cubiccapacity', 'kilowatts', 'bodytype', 'NumberOfDoors', 'VehicleIntroDate'\n",
    "]\n",
    "\n",
    "# Check if the same rows are missing\n",
    "missing_together = df[cols_552].isnull().all(axis=1)\n",
    "print(\"Number of rows with all 552-value columns missing:\", missing_together.sum())\n",
    "\n",
    "# Drop if there is any missing value\n",
    "df = df.dropna(subset=cols_552)\n"
   ]
  },
  {
   "cell_type": "markdown",
   "id": "2dad79b0",
   "metadata": {},
   "source": [
    "Half **Car Issued** columns are ''ItemType', 'mmcode',\n",
    "       'VehicleType', 'RegistrationYear', 'make', 'Model', 'Cylinders',\n",
    "       'cubiccapacity', 'kilowatts', 'bodytype', 'NumberOfDoors', and 'VehicleIntroDate'.\n",
    "- **ItemType**: Dropped due to having one unique value.\n",
    "- **make**: Removed trailing space.\n",
    "- Droped rows which have  **552 missing values** in the same row because vechicle information is important."
   ]
  },
  {
   "cell_type": "code",
   "execution_count": 36,
   "id": "120aff06",
   "metadata": {},
   "outputs": [],
   "source": [
    "# List the columns overview for  car insured information\n",
    "car_insured_columns2 = [ 'CustomValueEstimate', 'AlarmImmobiliser',\n",
    "       'TrackingDevice', 'CapitalOutstanding', 'NewVehicle', 'WrittenOff',\n",
    "       'Rebuilt', 'Converted', 'CrossBorder', 'NumberOfVehiclesInFleet']\n"
   ]
  },
  {
   "cell_type": "code",
   "execution_count": 37,
   "id": "f4b02476",
   "metadata": {},
   "outputs": [
    {
     "name": "stderr",
     "output_type": "stream",
     "text": [
      "C:\\Users\\user\\AppData\\Local\\Temp\\ipykernel_23760\\1473961367.py:1: FutureWarning: A value is trying to be set on a copy of a DataFrame or Series through chained assignment using an inplace method.\n",
      "The behavior will change in pandas 3.0. This inplace method will never work because the intermediate object on which we are setting values always behaves as a copy.\n",
      "\n",
      "For example, when doing 'df[col].method(value, inplace=True)', try using 'df.method({col: value}, inplace=True)' or df[col] = df[col].method(value) instead, to perform the operation inplace on the original object.\n",
      "\n",
      "\n",
      "  df['CustomValueEstimate'].fillna(df['CustomValueEstimate'].median(), inplace=True)\n",
      "C:\\Users\\user\\AppData\\Local\\Temp\\ipykernel_23760\\1473961367.py:1: SettingWithCopyWarning: \n",
      "A value is trying to be set on a copy of a slice from a DataFrame\n",
      "\n",
      "See the caveats in the documentation: https://pandas.pydata.org/pandas-docs/stable/user_guide/indexing.html#returning-a-view-versus-a-copy\n",
      "  df['CustomValueEstimate'].fillna(df['CustomValueEstimate'].median(), inplace=True)\n"
     ]
    }
   ],
   "source": [
    "df['CustomValueEstimate'].fillna(df['CustomValueEstimate'].median(), inplace=True)"
   ]
  },
  {
   "cell_type": "code",
   "execution_count": 44,
   "id": "20ac4dc1",
   "metadata": {},
   "outputs": [
    {
     "name": "stderr",
     "output_type": "stream",
     "text": [
      "C:\\Users\\user\\AppData\\Local\\Temp\\ipykernel_23760\\3051236007.py:10: FutureWarning: A value is trying to be set on a copy of a DataFrame or Series through chained assignment using an inplace method.\n",
      "The behavior will change in pandas 3.0. This inplace method will never work because the intermediate object on which we are setting values always behaves as a copy.\n",
      "\n",
      "For example, when doing 'df[col].method(value, inplace=True)', try using 'df.method({col: value}, inplace=True)' or df[col] = df[col].method(value) instead, to perform the operation inplace on the original object.\n",
      "\n",
      "\n",
      "  df['CapitalOutstanding'].fillna(df['CapitalOutstanding'].median(), inplace=True)\n"
     ]
    }
   ],
   "source": [
    "# First convert all to string (to safely apply str.replace)\n",
    "df['CapitalOutstanding'] = df['CapitalOutstanding'].astype(str)\n",
    "\n",
    "# Replace comma with dot\n",
    "df['CapitalOutstanding'] = df['CapitalOutstanding'].str.replace(',', '.')\n",
    "\n",
    "# Convert to numeric, coercing errors to NaN\n",
    "df['CapitalOutstanding'] = pd.to_numeric(df['CapitalOutstanding'], errors='coerce')\n",
    "\n",
    "df['CapitalOutstanding'].fillna(df['CapitalOutstanding'].median(), inplace=True)\n"
   ]
  },
  {
   "cell_type": "code",
   "execution_count": 39,
   "id": "1dd1436f",
   "metadata": {},
   "outputs": [
    {
     "name": "stderr",
     "output_type": "stream",
     "text": [
      "C:\\Users\\user\\AppData\\Local\\Temp\\ipykernel_23760\\2847392597.py:1: SettingWithCopyWarning: \n",
      "A value is trying to be set on a copy of a slice from a DataFrame.\n",
      "Try using .loc[row_indexer,col_indexer] = value instead\n",
      "\n",
      "See the caveats in the documentation: https://pandas.pydata.org/pandas-docs/stable/user_guide/indexing.html#returning-a-view-versus-a-copy\n",
      "  df[['NewVehicle', 'WrittenOff', 'Rebuilt', 'Converted']] = df[['NewVehicle', 'WrittenOff', 'Rebuilt', 'Converted']].fillna('Not specified')\n"
     ]
    }
   ],
   "source": [
    "df[['NewVehicle', 'WrittenOff', 'Rebuilt', 'Converted']] = df[['NewVehicle', 'WrittenOff', 'Rebuilt', 'Converted']].fillna('Not specified')"
   ]
  },
  {
   "cell_type": "code",
   "execution_count": 40,
   "id": "9791f97f",
   "metadata": {},
   "outputs": [],
   "source": [
    "# Drop a column from the DataFrame since it has nearly no value and no value\n",
    "df = dataAnalysis.drop_columns(['CrossBorder', 'NumberOfVehiclesInFleet'])\n"
   ]
  },
  {
   "cell_type": "code",
   "execution_count": 41,
   "id": "58a1239e",
   "metadata": {},
   "outputs": [],
   "source": [
    "# Drop a column from the DataFrame since it has single value\n",
    "df = dataAnalysis.drop_columns(['TermFrequency', 'StatutoryClass', 'StatutoryRiskType'])"
   ]
  },
  {
   "cell_type": "code",
   "execution_count": 42,
   "id": "5439d34d",
   "metadata": {},
   "outputs": [
    {
     "name": "stdout",
     "output_type": "stream",
     "text": [
      "Data saved as ../data/cleaned/CleanedMachineLearningRating_v3.csv\n"
     ]
    }
   ],
   "source": [
    "# Save processed data to csv\n",
    "csvfile = '../data/cleaned/CleanedMachineLearningRating_v3.csv'\n",
    "\n",
    "df.to_csv(csvfile, index=False)\n",
    "print(f\"Data saved as {csvfile}\")"
   ]
  },
  {
   "cell_type": "markdown",
   "id": "3585e68b",
   "metadata": {},
   "source": [
    "## Describe the data"
   ]
  },
  {
   "cell_type": "code",
   "execution_count": 43,
   "id": "42019a18",
   "metadata": {},
   "outputs": [
    {
     "name": "stdout",
     "output_type": "stream",
     "text": [
      "count    1.000098e+06\n",
      "mean     6.190550e+01\n",
      "std      2.302845e+02\n",
      "min     -7.825768e+02\n",
      "25%      0.000000e+00\n",
      "50%      2.178333e+00\n",
      "75%      2.192982e+01\n",
      "max      6.528260e+04\n",
      "Name: TotalPremium, dtype: float64\n",
      "0\n",
      "count    1.000098e+06\n",
      "mean     6.041727e+05\n",
      "std      1.508332e+06\n",
      "min      1.000000e-02\n",
      "25%      5.000000e+03\n",
      "50%      7.500000e+03\n",
      "75%      2.500000e+05\n",
      "max      1.263620e+07\n",
      "Name: SumInsured, dtype: float64\n",
      "count    1.000098e+06\n",
      "mean     1.178757e+02\n",
      "std      3.997017e+02\n",
      "min      0.000000e+00\n",
      "25%      3.224800e+00\n",
      "50%      8.436900e+00\n",
      "75%      9.000000e+01\n",
      "max      7.442217e+04\n",
      "Name: CalculatedPremiumPerTerm, dtype: float64\n",
      "count    999546.000000\n",
      "mean          4.046642\n",
      "std           0.294020\n",
      "min           0.000000\n",
      "25%           4.000000\n",
      "50%           4.000000\n",
      "75%           4.000000\n",
      "max          10.000000\n",
      "Name: Cylinders, dtype: float64\n",
      "count    999546.000000\n",
      "mean       2466.743258\n",
      "std         442.800640\n",
      "min           0.000000\n",
      "25%        2237.000000\n",
      "50%        2694.000000\n",
      "75%        2694.000000\n",
      "max       12880.000000\n",
      "Name: cubiccapacity, dtype: float64\n",
      "count    999546.000000\n",
      "mean         97.207919\n",
      "std          19.393256\n",
      "min           0.000000\n",
      "25%          75.000000\n",
      "50%         111.000000\n",
      "75%         111.000000\n",
      "max         309.000000\n",
      "Name: kilowatts, dtype: float64\n",
      "count    999546.000000\n",
      "mean          4.019250\n",
      "std           0.468314\n",
      "min           0.000000\n",
      "25%           4.000000\n",
      "50%           4.000000\n",
      "75%           4.000000\n",
      "max           6.000000\n",
      "Name: NumberOfDoors, dtype: float64\n",
      "count    2.204560e+05\n",
      "mean     2.255311e+05\n",
      "std      5.645157e+05\n",
      "min      2.000000e+04\n",
      "25%      1.350000e+05\n",
      "50%      2.200000e+05\n",
      "75%      2.800000e+05\n",
      "max      2.655000e+07\n",
      "Name: CustomValueEstimate, dtype: float64\n",
      "count     1000096\n",
      "unique       1011\n",
      "top             0\n",
      "freq       665918\n",
      "Name: CapitalOutstanding, dtype: int64\n"
     ]
    }
   ],
   "source": [
    "# Describe numerical data\n",
    "numerical_features = ['TotalPremium', 'TotalClaim', 'SumInsured', 'CalculatedPremiumPerTerm',\n",
    "       'Cylinders',  'cubiccapacity', 'kilowatts',  'NumberOfDoors', 'CustomValueEstimate', 'CapitalOutstanding']\n",
    "\n",
    "\n",
    "for col in numerical_features:\n",
    "    print(dataAnalysis.describe_data(col))"
   ]
  }
 ],
 "metadata": {
  "kernelspec": {
   "display_name": ".venv",
   "language": "python",
   "name": "python3"
  },
  "language_info": {
   "codemirror_mode": {
    "name": "ipython",
    "version": 3
   },
   "file_extension": ".py",
   "mimetype": "text/x-python",
   "name": "python",
   "nbconvert_exporter": "python",
   "pygments_lexer": "ipython3",
   "version": "3.12.10"
  }
 },
 "nbformat": 4,
 "nbformat_minor": 5
}
