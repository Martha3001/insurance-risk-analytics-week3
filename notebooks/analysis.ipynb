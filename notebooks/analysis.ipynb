{
 "cells": [
  {
   "cell_type": "markdown",
   "id": "af671c45",
   "metadata": {},
   "source": [
    "# Exploratory Data Analysis (EDA)"
   ]
  },
  {
   "cell_type": "markdown",
   "id": "c2eb1da2",
   "metadata": {},
   "source": [
    "## Import Dependenices and Custom Modules"
   ]
  },
  {
   "cell_type": "code",
   "execution_count": 24,
   "id": "5d56b792",
   "metadata": {},
   "outputs": [],
   "source": [
    "import numpy as np\n",
    "import pandas as pd\n",
    "import matplotlib.pyplot as plt\n",
    "import os\n",
    "import sys\n",
    "module_path = os.path.abspath(os.path.join('..'))\n",
    "if module_path not in sys.path:\n",
    "    sys.path.append(module_path)\n",
    "\n",
    "from scripts.data_loader import DataLoader\n",
    "from scripts.data_analysis import DataAnalysis\n",
    "from scripts.data_visualize import DataVisualize"
   ]
  },
  {
   "cell_type": "code",
   "execution_count": 25,
   "id": "d41a3d31",
   "metadata": {},
   "outputs": [
    {
     "name": "stderr",
     "output_type": "stream",
     "text": [
      "e:\\KAIM\\week3\\insurance-risk-analytics-week3\\scripts\\data_loader.py:32: DtypeWarning: Columns (32,37) have mixed types. Specify dtype option on import or set low_memory=False.\n",
      "  data = pd.read_csv(csv_path)\n"
     ]
    },
    {
     "name": "stdout",
     "output_type": "stream",
     "text": [
      "Loaded data from ../data/cleaned/ProcessedMachineLearningRating_v3.csv\n"
     ]
    }
   ],
   "source": [
    "# Loads a dataset from a text file and saves it as a CSV file.\n",
    "dataLoader = DataLoader()\n",
    "df = dataLoader.load_csv('../data/cleaned/ProcessedMachineLearningRating_v3.csv')\n",
    "\n",
    "dataAnalysis = DataAnalysis(df)\n",
    "dataVisualize = DataVisualize(df)"
   ]
  },
  {
   "cell_type": "markdown",
   "id": "d3ab0417",
   "metadata": {},
   "source": [
    "## Data Analysis"
   ]
  },
  {
   "cell_type": "markdown",
   "id": "f51264cf",
   "metadata": {},
   "source": [
    "### Columns about the client"
   ]
  },
  {
   "cell_type": "code",
   "execution_count": 26,
   "id": "def0cbd1",
   "metadata": {},
   "outputs": [],
   "source": [
    "# List the columns overview for client information\n",
    "client_columns = [ 'IsVATRegistered', 'Citizenship', 'LegalType', 'Title', 'Language',\n",
    "       'Bank', 'AccountType', 'MaritalStatus', 'Gender']"
   ]
  },
  {
   "cell_type": "code",
   "execution_count": 27,
   "id": "f38b1443",
   "metadata": {},
   "outputs": [],
   "source": [
    "# Fill '  ' values in 'Citizenship' with 'Not specified'\n",
    "df.loc[(df['Citizenship'] == '  '), 'Citizenship'] = 'Not specified'"
   ]
  },
  {
   "cell_type": "code",
   "execution_count": 28,
   "id": "11d0e7c6",
   "metadata": {},
   "outputs": [],
   "source": [
    "# Drop a column from the DataFrame since it has same value\n",
    "df = dataAnalysis.drop_columns('Language')"
   ]
  },
  {
   "cell_type": "code",
   "execution_count": 29,
   "id": "5161ae27",
   "metadata": {},
   "outputs": [
    {
     "name": "stdout",
     "output_type": "stream",
     "text": [
      "Remaining missing bank values: 0\n",
      "Remaining missing bank values: 0\n"
     ]
    }
   ],
   "source": [
    "# Fill missing values in 'Bank' &  'AccountType' with 'Not specified'\n",
    "dataAnalysis.fill_with_not_specified('Bank')\n",
    "print(f\"Remaining missing bank values: {dataAnalysis.calculate_missing_value('Bank')}\")\n",
    "\n",
    "dataAnalysis.fill_with_not_specified('AccountType')\n",
    "print(f\"Remaining missing bank values: {dataAnalysis.calculate_missing_value('AccountType')}\")"
   ]
  },
  {
   "cell_type": "code",
   "execution_count": 30,
   "id": "b14b1098",
   "metadata": {},
   "outputs": [
    {
     "name": "stdout",
     "output_type": "stream",
     "text": [
      "Filled 0 missing maritalStatus values\n",
      "Filled 51740 Not specified maritalStatus values\n",
      "Filled 8259 missing maritalStatus values\n",
      "Remaining missing maritalStatus values: 0\n"
     ]
    }
   ],
   "source": [
    "# Define title-maritalStatus mappings\n",
    "title_maritalStatus_map = {\n",
    "    'Mrs': 'Married',\n",
    "    'Miss': 'Single'\n",
    "}\n",
    "\n",
    "missing_before = dataAnalysis.calculate_missing_value('MaritalStatus')\n",
    "not_specified_before = dataAnalysis.length_column_value('MaritalStatus', 'Not specified')\n",
    "\n",
    "# Apply mappings where Gender is missing/unspecified\n",
    "for title, maritalStatus in title_maritalStatus_map.items():\n",
    "    df.loc[(df['Title'] == title) & \n",
    "           (df['MaritalStatus'].isna() | (df['MaritalStatus'] == 'Not specified')), \n",
    "           'MaritalStatus'] = maritalStatus\n",
    "    \n",
    "    \n",
    "missing_after = dataAnalysis.calculate_missing_value('MaritalStatus')\n",
    "not_specified_after = dataAnalysis.length_column_value('MaritalStatus', 'Not specified')\n",
    "\n",
    "print(f\"Filled {missing_before - missing_after} missing maritalStatus values\")\n",
    "print(f\"Filled {not_specified_before - not_specified_after} Not specified maritalStatus values\")\n",
    "\n",
    "# Fill remaining missing values in 'MaritalStatus' with 'Not specified'\n",
    "dataAnalysis.fill_with_not_specified('MaritalStatus')\n",
    "\n",
    "missing_after_filling = dataAnalysis.calculate_missing_value('MaritalStatus')\n",
    "print(f\"Filled {missing_after} missing maritalStatus values\")\n",
    "print(f\"Remaining missing maritalStatus values: {missing_after_filling}\")"
   ]
  },
  {
   "cell_type": "code",
   "execution_count": 31,
   "id": "bb7568c1",
   "metadata": {},
   "outputs": [
    {
     "name": "stdout",
     "output_type": "stream",
     "text": [
      "Filled 9536 missing gender values\n",
      "Filled 940180 Not specified gender values\n",
      "Remaining missing gender values: 0\n"
     ]
    }
   ],
   "source": [
    "# Define title-gender mappings\n",
    "title_gender_map = {\n",
    "    'Mr': 'Male',\n",
    "    'Mrs': 'Female',\n",
    "    'Miss': 'Female',\n",
    "    'Ms': 'Female'\n",
    "}\n",
    "\n",
    "missing_before = dataAnalysis.calculate_missing_value('Gender')\n",
    "not_specified_before = dataAnalysis.length_column_value('Gender', 'Not specified')\n",
    "\n",
    "# Apply mappings where Gender is missing/unspecified\n",
    "for title, gender in title_gender_map.items():\n",
    "    df.loc[(df['Title'] == title) & \n",
    "           (df['Gender'].isna() | (df['Gender'] == 'Not specified')), \n",
    "           'Gender'] = gender\n",
    "    \n",
    "missing_after = dataAnalysis.calculate_missing_value('Gender')\n",
    "not_specified_after = dataAnalysis.length_column_value('Gender', 'Not specified')\n",
    "\n",
    "\n",
    "print(f\"Filled {missing_before - missing_after} missing gender values\")\n",
    "print(f\"Filled {not_specified_before - not_specified_after} Not specified gender values\")\n",
    "print(f\"Remaining missing gender values: {missing_after}\")"
   ]
  },
  {
   "cell_type": "markdown",
   "id": "dabcdc93",
   "metadata": {},
   "source": [
    "The **Client Information** columns are IsVATRegistered, Citizenship, LegalType, Title, Language,\n",
    "       Bank, AccountType, MaritalStatus and Gender.\n",
    "- **Citizenship**: '  ' filled with 'Not specified'\n",
    "- **Language**: Dropped because it has the same value which is English.\n",
    "- **AccountType**: Filled missing values with 'Not specified'\n",
    "- **MaritalStatus**: Filled title with Mrs by Married and Miss by single and missing values with 'Not specified'\n",
    "- **Gender**: Filled title with Mrs, Miss, Mr by Female and Mr by Male "
   ]
  },
  {
   "cell_type": "markdown",
   "id": "23544d15",
   "metadata": {},
   "source": [
    "### Client Location"
   ]
  },
  {
   "cell_type": "code",
   "execution_count": 32,
   "id": "a023dbe0",
   "metadata": {},
   "outputs": [],
   "source": [
    "# List the columns overview for client location information\n",
    "client_location_columns = [ 'Country', 'Province', 'PostalCode', 'MainCrestaZone', 'SubCrestaZone']"
   ]
  },
  {
   "cell_type": "code",
   "execution_count": 33,
   "id": "7314348d",
   "metadata": {},
   "outputs": [],
   "source": [
    "# Drop a column from the DataFrame since it has same value\n",
    "df = dataAnalysis.drop_columns('Country')"
   ]
  },
  {
   "cell_type": "markdown",
   "id": "e6b0b280",
   "metadata": {},
   "source": [
    "The **Client Location** columns are 'Country', 'Province', 'PostalCode', 'MainCrestaZone' and 'SubCrestaZone'.\n",
    "- **Country**: column was dropped because it has one unique value South Africa with **1** unique values so it was dropped.\n"
   ]
  },
  {
   "cell_type": "markdown",
   "id": "9ab63b4a",
   "metadata": {},
   "source": [
    "### Car Insured"
   ]
  },
  {
   "cell_type": "code",
   "execution_count": 34,
   "id": "60b30d9a",
   "metadata": {},
   "outputs": [],
   "source": [
    "# List the columns overview for  car insured information\n",
    "car_insured_columns1 = [ 'ItemType', 'mmcode',\n",
    "       'VehicleType', 'RegistrationYear', 'make', 'Model', 'Cylinders',\n",
    "       'cubiccapacity', 'kilowatts', 'bodytype', 'NumberOfDoors']"
   ]
  },
  {
   "cell_type": "code",
   "execution_count": 35,
   "id": "292c1155",
   "metadata": {},
   "outputs": [],
   "source": [
    "df = dataAnalysis.drop_columns('ItemType')"
   ]
  },
  {
   "cell_type": "code",
   "execution_count": 36,
   "id": "6aa25cc7",
   "metadata": {},
   "outputs": [
    {
     "data": {
      "text/plain": [
       "array(['MERCEDES-BENZ', 'VOLKSWAGEN', 'RENAULT', 'FORD', 'BMW', 'AUDI',\n",
       "       'VOLVO', 'PROTON', 'TOYOTA', 'NISSAN/DATSUN', 'CMC', 'C.A.M',\n",
       "       'POLARSUN', 'NISSAN', 'IVECO', 'FIAT', 'JINBEI', 'HYUNDAI',\n",
       "       'GOLDEN JOURNEY', 'KIA', 'MITSUBISHI', 'TATA', 'MAZDA', 'CITROEN',\n",
       "       'FOTON', 'B.A.W', 'PEUGEOT', 'SUZUKI', 'CHERY', 'SAIC', 'JMC',\n",
       "       'HINO', 'HONDA', 'CHEVROLET', nan, 'OPEL', 'MAHINDRA', 'DAIHATSU',\n",
       "       'GEELY', 'SCANIA', 'LEXUS', 'HUMMER', 'MARCOPOLO'], dtype=object)"
      ]
     },
     "execution_count": 36,
     "metadata": {},
     "output_type": "execute_result"
    }
   ],
   "source": [
    "# Remove any trailing space\n",
    "df['make'] = df['make'].str.strip()\n",
    "df['Model'] = df['Model'].str.strip()\n",
    "\n",
    "df['make'].unique()"
   ]
  },
  {
   "cell_type": "code",
   "execution_count": 37,
   "id": "ce8a06b9",
   "metadata": {},
   "outputs": [
    {
     "name": "stdout",
     "output_type": "stream",
     "text": [
      "Number of rows with all 552-value columns missing: 552\n"
     ]
    }
   ],
   "source": [
    "cols_552 = [\n",
    "    'mmcode', 'VehicleType', 'make', 'Model', 'Cylinders',\n",
    "    'cubiccapacity', 'kilowatts', 'bodytype', 'NumberOfDoors', 'VehicleIntroDate'\n",
    "]\n",
    "\n",
    "# Check if the same rows are missing\n",
    "missing_together = df[cols_552].isnull().all(axis=1)\n",
    "print(\"Number of rows with all 552-value columns missing:\", missing_together.sum())\n",
    "\n",
    "# Drop if there is any missing value\n",
    "df = df.dropna(subset=cols_552)\n"
   ]
  },
  {
   "cell_type": "markdown",
   "id": "2dad79b0",
   "metadata": {},
   "source": [
    "Half **Car Issued** columns are ''ItemType', 'mmcode',\n",
    "       'VehicleType', 'RegistrationYear', 'make', 'Model', 'Cylinders',\n",
    "       'cubiccapacity', 'kilowatts', 'bodytype', 'NumberOfDoors', and 'VehicleIntroDate'.\n",
    "- **ItemType**: Dropped due to having one unique value.\n",
    "- **make**: Removed trailing space.\n",
    "- Droped rows which have  **552 missing values** in the same row because vechicle information is important."
   ]
  },
  {
   "cell_type": "code",
   "execution_count": null,
   "id": "120aff06",
   "metadata": {},
   "outputs": [],
   "source": [
    "# List the columns overview for  car insured information\n",
    "car_insured_columns2 = [ 'CustomValueEstimate', 'AlarmImmobiliser',\n",
    "       'TrackingDevice', 'CapitalOutstanding', 'NewVehicle', 'WrittenOff',\n",
    "       'Rebuilt', 'Converted', 'CrossBorder', 'NumberOfVehiclesInFleet']\n"
   ]
  },
  {
   "cell_type": "code",
   "execution_count": null,
   "id": "f4b02476",
   "metadata": {},
   "outputs": [],
   "source": [
    "df['CustomValueEstimate'].fillna(df['CustomValueEstimate'].median(), inplace=True)\n",
    "df[['WrittenOff', 'Rebuilt', 'Converted']] = df[['WrittenOff', 'Rebuilt', 'Converted']].fillna('Not specified')\n"
   ]
  },
  {
   "cell_type": "code",
   "execution_count": 69,
   "id": "7357ae38",
   "metadata": {},
   "outputs": [
    {
     "name": "stdout",
     "output_type": "stream",
     "text": [
      "NewVehicle\n",
      "More than 6 months    845223\n",
      "NaN                   153295\n",
      "Less than 6 months      1580\n",
      "Name: count, dtype: int64\n"
     ]
    }
   ],
   "source": [
    "print(df['NewVehicle'].value_counts(dropna=False))\n"
   ]
  },
  {
   "cell_type": "code",
   "execution_count": 72,
   "id": "330f74e4",
   "metadata": {},
   "outputs": [
    {
     "name": "stdout",
     "output_type": "stream",
     "text": [
      "                     count unique         top    freq\n",
      "NewVehicle                                           \n",
      "Less than 6 months    1580      4  2014-01-01     825\n",
      "More than 6 months  845223     25  2014-01-01  144957\n"
     ]
    }
   ],
   "source": [
    "print(df.groupby('NewVehicle')['RegistrationYear'].describe())\n"
   ]
  },
  {
   "cell_type": "code",
   "execution_count": 73,
   "id": "331700b7",
   "metadata": {},
   "outputs": [
    {
     "name": "stdout",
     "output_type": "stream",
     "text": [
      "RegistrationYear\n",
      "2007-01-01     50\n",
      "2012-01-01     90\n",
      "2014-01-01    825\n",
      "2015-01-01    615\n",
      "Name: count, dtype: int64\n",
      "RegistrationYear\n",
      "1987-01-01         3\n",
      "1988-01-01         1\n",
      "1992-01-01         1\n",
      "1994-01-01        51\n",
      "1995-01-01       344\n",
      "1996-01-01       865\n",
      "1997-01-01      1039\n",
      "1998-01-01      1243\n",
      "1999-01-01      1531\n",
      "2000-01-01      1316\n",
      "2001-01-01      5641\n",
      "2002-01-01      5975\n",
      "2003-01-01      9604\n",
      "2004-01-01     15274\n",
      "2005-01-01     27270\n",
      "2006-01-01     37378\n",
      "2007-01-01     72343\n",
      "2008-01-01     86594\n",
      "2009-01-01     54050\n",
      "2010-01-01     77563\n",
      "2011-01-01     69788\n",
      "2012-01-01    106598\n",
      "2013-01-01     98820\n",
      "2014-01-01    144957\n",
      "2015-01-01     26974\n",
      "Name: count, dtype: int64\n"
     ]
    }
   ],
   "source": [
    "print(df[df['NewVehicle'] == 'Less than 6 months']['RegistrationYear'].value_counts().sort_index())\n",
    "print(df[df['NewVehicle'] == 'More than 6 months']['RegistrationYear'].value_counts().sort_index())\n"
   ]
  },
  {
   "cell_type": "code",
   "execution_count": 52,
   "id": "20ac4dc1",
   "metadata": {},
   "outputs": [],
   "source": [
    "# First convert all to string (to safely apply str.replace)\n",
    "df['CapitalOutstanding'] = df['CapitalOutstanding'].astype(str)\n",
    "\n",
    "# Replace comma with dot\n",
    "df['CapitalOutstanding'] = df['CapitalOutstanding'].str.replace(',', '.')\n",
    "\n",
    "# Convert to numeric, coercing errors to NaN\n",
    "df['CapitalOutstanding'] = pd.to_numeric(df['CapitalOutstanding'], errors='coerce')\n"
   ]
  },
  {
   "cell_type": "code",
   "execution_count": 42,
   "id": "9791f97f",
   "metadata": {},
   "outputs": [],
   "source": [
    "# Drop a column from the DataFrame since it has nearly no value and no value\n",
    "df = dataAnalysis.drop_columns(['CrossBorder', 'NumberOfVehiclesInFleet'])\n"
   ]
  },
  {
   "cell_type": "markdown",
   "id": "b7674bea",
   "metadata": {},
   "source": [
    "The **Car Insured** columns are 'ItemType', 'mmcode',\n",
    "       'VehicleType', 'RegistrationYear', 'make', 'Model', 'Cylinders',\n",
    "       'cubiccapacity', 'kilowatts', 'bodytype', 'NumberOfDoors',\n",
    "       'VehicleIntroDate', 'CustomValueEstimate', 'AlarmImmobiliser',\n",
    "       'TrackingDevice', 'CapitalOutstanding', 'NewVehicle', 'WrittenOff',\n",
    "       'Rebuilt', 'Converted', 'CrossBorder' and 'NumberOfVehiclesInFleet'.\n",
    "- **ItemType**: Mobility - Motor with **1** unique values which was dropped due to have one value.\n",
    "- **Provice**: **9** unique values with Gauteng the highest count.\n",
    "- The columns are **object** except **PostalCode** which is integer.\n",
    "- \n",
    "- **Missing values** in columns: \n",
    "- All value is **missing** in column **NumberOfVehiclesInFleet** which was dropped."
   ]
  },
  {
   "cell_type": "code",
   "execution_count": 43,
   "id": "5439d34d",
   "metadata": {},
   "outputs": [
    {
     "name": "stdout",
     "output_type": "stream",
     "text": [
      "Data saved as ../data/cleaned/CleanedMachineLearningRating_v3.csv\n"
     ]
    }
   ],
   "source": [
    "# Save processed data to csv\n",
    "csvfile = '../data/cleaned/CleanedMachineLearningRating_v3.csv'\n",
    "\n",
    "df.to_csv(csvfile, index=False)\n",
    "print(f\"Data saved as {csvfile}\")"
   ]
  }
 ],
 "metadata": {
  "kernelspec": {
   "display_name": ".venv",
   "language": "python",
   "name": "python3"
  },
  "language_info": {
   "codemirror_mode": {
    "name": "ipython",
    "version": 3
   },
   "file_extension": ".py",
   "mimetype": "text/x-python",
   "name": "python",
   "nbconvert_exporter": "python",
   "pygments_lexer": "ipython3",
   "version": "3.12.3"
  }
 },
 "nbformat": 4,
 "nbformat_minor": 5
}
